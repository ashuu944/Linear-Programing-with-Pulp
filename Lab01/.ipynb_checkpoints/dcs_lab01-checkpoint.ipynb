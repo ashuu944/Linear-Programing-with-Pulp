{
 "cells": [
  {
   "cell_type": "markdown",
   "id": "72cf5b7a",
   "metadata": {
    "id": "72cf5b7a"
   },
   "source": [
    "##  Decision Modelling on Preferences As Binary Relations"
   ]
  },
  {
   "cell_type": "markdown",
   "id": "91348f34",
   "metadata": {
    "id": "91348f34"
   },
   "source": [
    "This notebook will examine the different properties of binary relations on a given matrix"
   ]
  },
  {
   "cell_type": "code",
   "execution_count": 105,
   "id": "0fb215b3",
   "metadata": {
    "id": "0fb215b3"
   },
   "outputs": [],
   "source": [
    "#import libraries\n",
    "import pandas as pd\n",
    "import numpy as np\n",
    "import networkx as nx\n",
    "import matplotlib.pyplot as plt\n",
    "import math\n",
    "from collections import defaultdict\n"
   ]
  },
  {
   "cell_type": "markdown",
   "id": "2894a608",
   "metadata": {
    "id": "2894a608"
   },
   "source": [
    "### 1. Reading the excel file transform to csv and Visualizing in graph"
   ]
  },
  {
   "cell_type": "code",
   "execution_count": 106,
   "id": "127fcbf4",
   "metadata": {
    "id": "127fcbf4"
   },
   "outputs": [],
   "source": [
    "#read the excel file and convert to csv\n",
    "read_file = pd.read_excel (r'data\\matrix.xlsx')\n",
    "read_file.to_csv (r'data\\matrix.csv',sep=',', index=None)\n"
   ]
  },
  {
   "cell_type": "markdown",
   "id": "426122a5",
   "metadata": {
    "id": "426122a5"
   },
   "source": [
    "Creating A matrix using the value from the csv file"
   ]
  },
  {
   "cell_type": "code",
   "execution_count": 107,
   "id": "b41e8b4e",
   "metadata": {
    "id": "b41e8b4e",
    "scrolled": true
   },
   "outputs": [],
   "source": [
    "df = pd.read_csv(\"data\\matrix.csv\",header=None)"
   ]
  },
  {
   "cell_type": "code",
   "execution_count": 108,
   "id": "c53bcdfe",
   "metadata": {
    "id": "c53bcdfe",
    "outputId": "951bb577-bd89-4b67-8233-d05a584eafae"
   },
   "outputs": [
    {
     "data": {
      "text/html": [
       "<div>\n",
       "<style scoped>\n",
       "    .dataframe tbody tr th:only-of-type {\n",
       "        vertical-align: middle;\n",
       "    }\n",
       "\n",
       "    .dataframe tbody tr th {\n",
       "        vertical-align: top;\n",
       "    }\n",
       "\n",
       "    .dataframe thead th {\n",
       "        text-align: right;\n",
       "    }\n",
       "</style>\n",
       "<table border=\"1\" class=\"dataframe\">\n",
       "  <thead>\n",
       "    <tr style=\"text-align: right;\">\n",
       "      <th></th>\n",
       "      <th>0</th>\n",
       "      <th>1</th>\n",
       "      <th>2</th>\n",
       "      <th>3</th>\n",
       "      <th>4</th>\n",
       "      <th>5</th>\n",
       "    </tr>\n",
       "  </thead>\n",
       "  <tbody>\n",
       "    <tr>\n",
       "      <th>0</th>\n",
       "      <td>1</td>\n",
       "      <td>1.1</td>\n",
       "      <td>1.2</td>\n",
       "      <td>1.3</td>\n",
       "      <td>1.4</td>\n",
       "      <td>1.5</td>\n",
       "    </tr>\n",
       "    <tr>\n",
       "      <th>1</th>\n",
       "      <td>0</td>\n",
       "      <td>1.0</td>\n",
       "      <td>1.0</td>\n",
       "      <td>1.0</td>\n",
       "      <td>1.0</td>\n",
       "      <td>1.0</td>\n",
       "    </tr>\n",
       "    <tr>\n",
       "      <th>2</th>\n",
       "      <td>0</td>\n",
       "      <td>0.0</td>\n",
       "      <td>1.0</td>\n",
       "      <td>1.0</td>\n",
       "      <td>1.0</td>\n",
       "      <td>1.0</td>\n",
       "    </tr>\n",
       "    <tr>\n",
       "      <th>3</th>\n",
       "      <td>0</td>\n",
       "      <td>1.0</td>\n",
       "      <td>1.0</td>\n",
       "      <td>1.0</td>\n",
       "      <td>1.0</td>\n",
       "      <td>0.0</td>\n",
       "    </tr>\n",
       "    <tr>\n",
       "      <th>4</th>\n",
       "      <td>0</td>\n",
       "      <td>0.0</td>\n",
       "      <td>0.0</td>\n",
       "      <td>1.0</td>\n",
       "      <td>1.0</td>\n",
       "      <td>1.0</td>\n",
       "    </tr>\n",
       "    <tr>\n",
       "      <th>5</th>\n",
       "      <td>0</td>\n",
       "      <td>0.0</td>\n",
       "      <td>0.0</td>\n",
       "      <td>0.0</td>\n",
       "      <td>1.0</td>\n",
       "      <td>1.0</td>\n",
       "    </tr>\n",
       "  </tbody>\n",
       "</table>\n",
       "</div>"
      ],
      "text/plain": [
       "   0    1    2    3    4    5\n",
       "0  1  1.1  1.2  1.3  1.4  1.5\n",
       "1  0  1.0  1.0  1.0  1.0  1.0\n",
       "2  0  0.0  1.0  1.0  1.0  1.0\n",
       "3  0  1.0  1.0  1.0  1.0  0.0\n",
       "4  0  0.0  0.0  1.0  1.0  1.0\n",
       "5  0  0.0  0.0  0.0  1.0  1.0"
      ]
     },
     "execution_count": 108,
     "metadata": {},
     "output_type": "execute_result"
    }
   ],
   "source": [
    "df"
   ]
  },
  {
   "cell_type": "code",
   "execution_count": 109,
   "id": "ede23e30",
   "metadata": {
    "id": "ede23e30"
   },
   "outputs": [],
   "source": [
    "matrix = df.to_numpy()"
   ]
  },
  {
   "cell_type": "markdown",
   "id": "0bf6bb23",
   "metadata": {
    "id": "0bf6bb23"
   },
   "source": [
    "### Graph Representation of a Matrix"
   ]
  },
  {
   "cell_type": "code",
   "execution_count": 110,
   "id": "95220a05",
   "metadata": {
    "colab": {
     "base_uri": "https://localhost:8080/",
     "height": 319
    },
    "id": "95220a05",
    "outputId": "a1b4c538-76e4-411f-d8f0-8af06ed1c372"
   },
   "outputs": [
    {
     "data": {
      "image/png": "[encoded data removed]",
      "text/plain": [
       "<Figure size 432x288 with 1 Axes>"
      ]
     },
     "metadata": {},
     "output_type": "display_data"
    }
   ],
   "source": [
    "G = nx.from_numpy_matrix(matrix, create_using=nx.MultiGraph)\n",
    "nx.draw(G)"
   ]
  },
  {
   "cell_type": "markdown",
   "id": "b5c4d414",
   "metadata": {
    "id": "b5c4d414"
   },
   "source": [
    "### 2. A function to check if a binary relation is complete"
   ]
  },
  {
   "cell_type": "markdown",
   "id": "03237a45",
   "metadata": {
    "id": "03237a45"
   },
   "source": [
    "A binary relation is Complete if for every x; y ∈ X, x R y or y R x (possibly both)"
   ]
  },
  {
   "cell_type": "code",
   "execution_count": 111,
   "id": "ce9abd68",
   "metadata": {
    "id": "ce9abd68"
   },
   "outputs": [],
   "source": [
    "def CompleteCheck(matrix):\n",
    "    \n",
    "    n = len(matrix)\n",
    "    \n",
    "    for i in range(n):\n",
    "            for j in range(n):\n",
    "                if not (matrix[i][j] or matrix[j][i]):\n",
    "                    return False\n",
    "    return True\n",
    "    "
   ]
  },
  {
   "cell_type": "code",
   "execution_count": 112,
   "id": "d71d7426",
   "metadata": {
    "colab": {
     "base_uri": "https://localhost:8080/"
    },
    "id": "d71d7426",
    "outputId": "f9b429d5-370a-410e-dd6a-706bdaf37a1d"
   },
   "outputs": [
    {
     "name": "stdout",
     "output_type": "stream",
     "text": [
      "The binary relation is not complete\n"
     ]
    }
   ],
   "source": [
    "if(CompleteCheck(matrix)==True):\n",
    "    print(\"The binary relation is complete!\")\n",
    "else:\n",
    "    print(\"The binary relation is not complete\")"
   ]
  },
  {
   "cell_type": "markdown",
   "id": "3353282e",
   "metadata": {
    "id": "3353282e"
   },
   "source": [
    "###  3. A function to check  if a binary relation is reflexive"
   ]
  },
  {
   "cell_type": "markdown",
   "id": "a01cfe57",
   "metadata": {
    "id": "a01cfe57"
   },
   "source": [
    "A binary relation is Reflexive if for every x ∈ X, x R x;"
   ]
  },
  {
   "cell_type": "code",
   "execution_count": 113,
   "id": "acd4970a",
   "metadata": {
    "id": "acd4970a"
   },
   "outputs": [],
   "source": [
    "def ReflexiveCheck(matrix):\n",
    "        n = len(matrix)\n",
    "        for i in range(n):\n",
    "            if not matrix[i][i]:\n",
    "                return False\n",
    "        return True"
   ]
  },
  {
   "cell_type": "code",
   "execution_count": 114,
   "id": "064d69f2",
   "metadata": {
    "colab": {
     "base_uri": "https://localhost:8080/"
    },
    "id": "064d69f2",
    "outputId": "ef3ec956-762b-4463-f5f4-8345ac0f5ed0"
   },
   "outputs": [
    {
     "name": "stdout",
     "output_type": "stream",
     "text": [
      "The binary relation is Reflexive!\n"
     ]
    }
   ],
   "source": [
    "if(ReflexiveCheck(matrix)==True):\n",
    "    print(\"The binary relation is Reflexive!\")\n",
    "else:\n",
    "    print(\"The binary relation is not Reflexive\")"
   ]
  },
  {
   "cell_type": "markdown",
   "id": "d7b37fc1",
   "metadata": {
    "id": "d7b37fc1"
   },
   "source": [
    "### 4. A function to check if a binary relation is asymmetric"
   ]
  },
  {
   "cell_type": "markdown",
   "id": "215776ea",
   "metadata": {
    "id": "215776ea"
   },
   "source": [
    "A binary relation is Asymmetric if for if for every x; y ∈ X, [x R y => not(y R x)]"
   ]
  },
  {
   "cell_type": "code",
   "execution_count": 115,
   "id": "e792bee1",
   "metadata": {
    "id": "e792bee1"
   },
   "outputs": [],
   "source": [
    "def AsymmetricCheck(matrix):\n",
    "    n = len(matrix)\n",
    "    for i in range(n):\n",
    "        for j in range(n):\n",
    "            if matrix[i][j] and matrix[j][i]:\n",
    "                return False\n",
    "        return True"
   ]
  },
  {
   "cell_type": "code",
   "execution_count": 116,
   "id": "9d777d28",
   "metadata": {
    "colab": {
     "base_uri": "https://localhost:8080/"
    },
    "id": "9d777d28",
    "outputId": "49685fe2-0858-43db-adc7-f0d3c53dc7c7"
   },
   "outputs": [
    {
     "name": "stdout",
     "output_type": "stream",
     "text": [
      "The binary relation is not Asymmetric\n"
     ]
    }
   ],
   "source": [
    "if(AsymmetricCheck(matrix)==True):\n",
    "    print(\"The binary relation is Asymmetric!\")\n",
    "else:\n",
    "    print(\"The binary relation is not Asymmetric\")"
   ]
  },
  {
   "cell_type": "markdown",
   "id": "edaa58cb",
   "metadata": {
    "id": "edaa58cb"
   },
   "source": [
    "### 5. A function to check if a binary relation is symmetric"
   ]
  },
  {
   "cell_type": "markdown",
   "id": "472b7f64",
   "metadata": {
    "id": "472b7f64"
   },
   "source": [
    "A binary relation is Symmetric if for every x, y ∈ X, [x R y ⇒ y R x]"
   ]
  },
  {
   "cell_type": "code",
   "execution_count": 117,
   "id": "823d1efd",
   "metadata": {
    "id": "823d1efd"
   },
   "outputs": [],
   "source": [
    "def SymmetricCheck(matrix):\n",
    "    n = len(matrix)\n",
    "    for i in range(n):\n",
    "        for j in range(n):\n",
    "            if matrix[i][j] and not matrix[j][i]:\n",
    "                return False\n",
    "        return True"
   ]
  },
  {
   "cell_type": "code",
   "execution_count": 118,
   "id": "d10ede04",
   "metadata": {
    "colab": {
     "base_uri": "https://localhost:8080/"
    },
    "id": "d10ede04",
    "outputId": "a58e0edf-06a7-4eee-ae87-cd1bdc95edcb"
   },
   "outputs": [
    {
     "name": "stdout",
     "output_type": "stream",
     "text": [
      "The binary relation is not Symmetric\n"
     ]
    }
   ],
   "source": [
    "if(SymmetricCheck(matrix)==True):\n",
    "    print(\"The binary relation is Symmetric!\")\n",
    "else:\n",
    "    print(\"The binary relation is not Symmetric\")"
   ]
  },
  {
   "cell_type": "markdown",
   "id": "75c0ef7a",
   "metadata": {
    "id": "75c0ef7a"
   },
   "source": [
    "### 6. A function to check if a binary relation is antisymmetric"
   ]
  },
  {
   "cell_type": "markdown",
   "id": "ad2cceef",
   "metadata": {
    "id": "ad2cceef"
   },
   "source": [
    "A binary relation is antisymmetric if for every x, y ∈ X, [x R y and y R x =⇒ x = y]"
   ]
  },
  {
   "cell_type": "code",
   "execution_count": 119,
   "id": "ecf4d16e",
   "metadata": {
    "id": "ecf4d16e"
   },
   "outputs": [],
   "source": [
    "def AntisymmetricCheck(matrix):\n",
    "\n",
    "    n = len(matrix)\n",
    "    for i in range(n):\n",
    "        for j in range(n):\n",
    "            if matrix[i][j] and matrix[j][i]:\n",
    "                if matrix[i][j] != matrix[j][i]:\n",
    "                    return False\n",
    "    return True"
   ]
  },
  {
   "cell_type": "code",
   "execution_count": 120,
   "id": "cde0cdc6",
   "metadata": {
    "colab": {
     "base_uri": "https://localhost:8080/"
    },
    "id": "cde0cdc6",
    "outputId": "359e1dba-97b5-40fa-d056-2bfe3eab920e"
   },
   "outputs": [
    {
     "name": "stdout",
     "output_type": "stream",
     "text": [
      "The binary relation is Antisymmetric!\n"
     ]
    }
   ],
   "source": [
    "if(AntisymmetricCheck(matrix)==True):\n",
    "    print(\"The binary relation is Antisymmetric!\")\n",
    "else:\n",
    "    print(\"The binary relation is not Antisymmetric\")"
   ]
  },
  {
   "cell_type": "markdown",
   "id": "30b6536b",
   "metadata": {
    "id": "30b6536b"
   },
   "source": [
    "### 7. A function to check if a binary relation is transitive"
   ]
  },
  {
   "cell_type": "markdown",
   "id": "c456a4de",
   "metadata": {
    "id": "c456a4de"
   },
   "source": [
    "A binary relation is transitive if for every x, y, z ∈ X, [x R y and y R z =⇒ x R z]"
   ]
  },
  {
   "cell_type": "code",
   "execution_count": 121,
   "id": "c8b4ac0b",
   "metadata": {
    "id": "c8b4ac0b"
   },
   "outputs": [],
   "source": [
    "def TransitiveCheck(matrix):\n",
    "    n = len(matrix)\n",
    "    for i in range(n):\n",
    "        for j in range(n):\n",
    "             for k in range(n):\n",
    "                    if matrix[i][j] and matrix[j][k]:\n",
    "                        if not matrix[i][k]:\n",
    "                            return False\n",
    "\n",
    "    return True\n",
    "    "
   ]
  },
  {
   "cell_type": "code",
   "execution_count": 122,
   "id": "a336265d",
   "metadata": {
    "colab": {
     "base_uri": "https://localhost:8080/"
    },
    "id": "a336265d",
    "outputId": "05a4edc2-7496-4850-e206-7296be7a1002"
   },
   "outputs": [
    {
     "name": "stdout",
     "output_type": "stream",
     "text": [
      "The binary relation is not Transitive\n"
     ]
    }
   ],
   "source": [
    "if(TransitiveCheck(matrix)==True):\n",
    "    print(\"The binary relation is Transitive!\")\n",
    "else:\n",
    "    print(\"The binary relation is not Transitive\")"
   ]
  },
  {
   "cell_type": "markdown",
   "id": "d600a7fd",
   "metadata": {
    "id": "d600a7fd"
   },
   "source": [
    "### 8. A function to check if a binary relation is negative transitive"
   ]
  },
  {
   "cell_type": "markdown",
   "id": "e4d5a748",
   "metadata": {
    "id": "e4d5a748"
   },
   "source": [
    "A binary relation is negative transitive if for every x, y, z ∈ X, [not(x R y) and not(y R z) =⇒ not(x R z)]"
   ]
  },
  {
   "cell_type": "code",
   "execution_count": 123,
   "id": "2906c25e",
   "metadata": {
    "id": "2906c25e"
   },
   "outputs": [],
   "source": [
    "def NegativetransitiveCheck(matrix):\n",
    "    n = len(matrix)\n",
    "    for i in range(n):\n",
    "        for j in range(n):\n",
    "            for k in range(n):\n",
    "                    if (not matrix[i][j]) and (not matrix[j][k]):\n",
    "                        if not matrix[i][k]:\n",
    "                            return True\n",
    "        return False"
   ]
  },
  {
   "cell_type": "code",
   "execution_count": 124,
   "id": "9e6e2134",
   "metadata": {
    "colab": {
     "base_uri": "https://localhost:8080/"
    },
    "id": "9e6e2134",
    "outputId": "273a7294-0324-48a6-f80b-b783601913dc"
   },
   "outputs": [
    {
     "name": "stdout",
     "output_type": "stream",
     "text": [
      "The binary relation is not Negative Transitive\n"
     ]
    }
   ],
   "source": [
    "if(NegativetransitiveCheck(matrix)==True):\n",
    "    print(\"The binary relation is Negative Transitive!\")\n",
    "else:\n",
    "    print(\"The binary relation is not Negative Transitive\")"
   ]
  },
  {
   "cell_type": "markdown",
   "id": "66a0b069",
   "metadata": {
    "id": "66a0b069"
   },
   "source": [
    "\n",
    "### 9. A function to check if a binary relation is a complete order"
   ]
  },
  {
   "cell_type": "markdown",
   "id": "c1423b8d",
   "metadata": {
    "id": "c1423b8d"
   },
   "source": [
    "A binary relation R on X is a complete order or a linear order if R is complete, antisymmetric and transitive"
   ]
  },
  {
   "cell_type": "code",
   "execution_count": 125,
   "id": "0c93c971",
   "metadata": {
    "id": "0c93c971"
   },
   "outputs": [],
   "source": [
    "def CompleteOrderCheck(matrix):\n",
    "    if AntisymmetricCheck(matrix) and TransitiveCheck(matrix):\n",
    "        return True\n",
    "    else:\n",
    "        return False"
   ]
  },
  {
   "cell_type": "code",
   "execution_count": 126,
   "id": "df949933",
   "metadata": {
    "id": "df949933",
    "outputId": "be8a68a5-7950-43da-bc83-4c68154f630a"
   },
   "outputs": [
    {
     "name": "stdout",
     "output_type": "stream",
     "text": [
      "The binary relation is not Complete Order\n"
     ]
    }
   ],
   "source": [
    "if(CompleteOrderCheck(matrix)==True):\n",
    "    print(\"The binary relation is Complete Order!\")\n",
    "else:\n",
    "    print(\"The binary relation is not Complete Order\")"
   ]
  },
  {
   "cell_type": "markdown",
   "id": "1dfdf4a6",
   "metadata": {
    "id": "1dfdf4a6"
   },
   "source": [
    "### 10. A function  to check if a binary relation is a complete pre-order"
   ]
  },
  {
   "cell_type": "markdown",
   "id": "b5ce761e",
   "metadata": {
    "id": "b5ce761e"
   },
   "source": [
    "A binary relation R on X is a weak order or a complete preorder if R is complete and transitive"
   ]
  },
  {
   "cell_type": "code",
   "execution_count": 127,
   "id": "85c5c744",
   "metadata": {
    "id": "85c5c744"
   },
   "outputs": [],
   "source": [
    "def CompletePreOrderCheck(matrix):\n",
    "    if CompleteCheck(matrix) and TransitiveCheck(matrix):\n",
    "        return True\n",
    "    else:\n",
    "        return False"
   ]
  },
  {
   "cell_type": "code",
   "execution_count": 128,
   "id": "3dd21abe",
   "metadata": {
    "colab": {
     "base_uri": "https://localhost:8080/"
    },
    "id": "3dd21abe",
    "outputId": "4859e7e1-f26d-4ded-9b00-4d148544d58b"
   },
   "outputs": [
    {
     "name": "stdout",
     "output_type": "stream",
     "text": [
      "The binary relation is not Complete pre-Order\n"
     ]
    }
   ],
   "source": [
    "if(CompletePreOrderCheck(matrix)==True):\n",
    "    print(\"The binary relation is Complete pre-Order!\")\n",
    "else:\n",
    "    print(\"The binary relation is not Complete pre-Order\")"
   ]
  },
  {
   "cell_type": "markdown",
   "id": "40b12d71",
   "metadata": {
    "id": "40b12d71"
   },
   "source": [
    "### 11. A function to return the strict relation part of a binary relation"
   ]
  },
  {
   "cell_type": "markdown",
   "id": "99336cf9",
   "metadata": {
    "id": "IwHGi6E5tri0"
   },
   "source": [
    "For a binary relation R on X, we define a symmetric part I and an asymmetric part P as follows: for all x, y ∈ X\n",
    "\n",
    "        x I y if [x R y and y R x]\n",
    "        x P y if [x R y and not(y R x)]"
   ]
  },
  {
   "cell_type": "code",
   "execution_count": 129,
   "id": "98c8781d",
   "metadata": {},
   "outputs": [],
   "source": [
    "def StrictRelation(matrix):\n",
    "    n = len(matrix)\n",
    "    strict_part = matrix.copy() #copy the values of the matrix\n",
    "    for i in range(n):\n",
    "        for j in range(n):\n",
    "            if  matrix[i][j] and matrix[j][i]:\n",
    "                strict_part[i][j] = 0  #set the row for the part which is not strict\n",
    "        return strict_part"
   ]
  },
  {
   "cell_type": "code",
   "execution_count": 130,
   "id": "220e9b39",
   "metadata": {},
   "outputs": [
    {
     "data": {
      "text/plain": [
       "array([[0. , 1.1, 1.2, 1.3, 1.4, 1.5],\n",
       "       [0. , 1. , 1. , 1. , 1. , 1. ],\n",
       "       [0. , 0. , 1. , 1. , 1. , 1. ],\n",
       "       [0. , 1. , 1. , 1. , 1. , 0. ],\n",
       "       [0. , 0. , 0. , 1. , 1. , 1. ],\n",
       "       [0. , 0. , 0. , 0. , 1. , 1. ]])"
      ]
     },
     "execution_count": 130,
     "metadata": {},
     "output_type": "execute_result"
    }
   ],
   "source": [
    "StrictRelation(matrix)"
   ]
  },
  {
   "cell_type": "markdown",
   "id": "14faf2ef",
   "metadata": {
    "id": "14faf2ef"
   },
   "source": [
    "### 12. A function to return the indifference relation part of a binary relation"
   ]
  },
  {
   "cell_type": "markdown",
   "id": "011c3258",
   "metadata": {
    "id": "fe3adf21"
   },
   "source": [
    "For a binary relation R on X, we define a symmetric part I and an asymmetric\n",
    "        part P as follows: for all x, y ∈ X\n",
    "        \n",
    "        x I y if [x R y and y R x]\n",
    "        x P y if [x R y and not(y R x)]\n",
    "        \n",
    "        "
   ]
  },
  {
   "cell_type": "code",
   "execution_count": 131,
   "id": "eaef39d3",
   "metadata": {},
   "outputs": [],
   "source": [
    "def IndifferenceRelation(matrix):\n",
    "    n = len(matrix)\n",
    "    indefference_part = np.zeros(matrix.shape)\n",
    "    for i in range(n):\n",
    "        for j in range(n):\n",
    "            if  matrix[i][j] and (matrix[j][i]):\n",
    "                indefference_part[i][j] = 1\n",
    "            else:\n",
    "                indefference_part[i][j] = 0\n",
    "        return indefference_part"
   ]
  },
  {
   "cell_type": "code",
   "execution_count": 132,
   "id": "75007afa",
   "metadata": {},
   "outputs": [
    {
     "data": {
      "text/plain": [
       "array([[1., 0., 0., 0., 0., 0.],\n",
       "       [0., 0., 0., 0., 0., 0.],\n",
       "       [0., 0., 0., 0., 0., 0.],\n",
       "       [0., 0., 0., 0., 0., 0.],\n",
       "       [0., 0., 0., 0., 0., 0.],\n",
       "       [0., 0., 0., 0., 0., 0.]])"
      ]
     },
     "execution_count": 132,
     "metadata": {},
     "output_type": "execute_result"
    }
   ],
   "source": [
    "IndifferenceRelation(matrix)"
   ]
  },
  {
   "cell_type": "markdown",
   "id": "e5abf34c",
   "metadata": {
    "id": "e5abf34c"
   },
   "source": [
    "### 13. A function to return a topological sorting of a binary relation"
   ]
  },
  {
   "cell_type": "markdown",
   "id": "22e69922",
   "metadata": {},
   "source": [
    "Topological Sorting is an algorithm that orders a directed acylic graph (DAG) in a way such that each node appears before all the nodes it points to in the returned order, i.e. if we have a --> b, a must appear before b in the topological order.\n",
    "\n",
    "To provide a topological sort we need to check if our graph is directed acyclic graph and then we can provide a topological sort otherwise if the graph is not DAG we can not get a topological sort"
   ]
  },
  {
   "cell_type": "code",
   "execution_count": 133,
   "id": "a9314f8d",
   "metadata": {},
   "outputs": [],
   "source": [
    "def get_indegree(matrix, i):\n",
    "    indegree = 0\n",
    "    n = len(matrix)\n",
    "    for j in range(n):\n",
    "        if matrix[j][i] == True:\n",
    "            indegree += 1\n",
    "    return indegree\n",
    "\n",
    "def TopologicalSorting(matrix):\n",
    "    n = len(matrix)\n",
    "    indegree = [0] * n\n",
    "    for i in range(n):\n",
    "        get_indegree(matrix, i)\n",
    "        for j in range(n):\n",
    "            if matrix[j][i] == True:\n",
    "                indegree[i] = indegree[i] + 1\n",
    "        stack = []\n",
    "        count = 0\n",
    "    for k in range(n):\n",
    "        if indegree[k] == 0:\n",
    "            stack.append(k)\n",
    "\n",
    "    while stack:\n",
    "        v = stack.pop(0)\n",
    "        count += 1\n",
    "        for w in matrix[v]:\n",
    "            indegree[w] = indegree[w] - 1\n",
    "            if indegree[w] == 0:\n",
    "                stack.append(w)\n",
    "\n",
    "    if count == n:\n",
    "        return stack\n",
    "    else:\n",
    "        print(\"The graph is not DAG, therefore we can not get a topological sort for this graph \")\n",
    "        return None"
   ]
  },
  {
   "cell_type": "code",
   "execution_count": 134,
   "id": "329d437a",
   "metadata": {},
   "outputs": [
    {
     "name": "stdout",
     "output_type": "stream",
     "text": [
      "The graph is not DAG, therefore we can not get a topological sort for this graph \n"
     ]
    }
   ],
   "source": [
    "TopologicalSorting(matrix)"
   ]
  },
  {
   "cell_type": "code",
   "execution_count": null,
   "id": "0bc7a36d",
   "metadata": {},
   "outputs": [],
   "source": []
  }
 ],
 "metadata": {
  "colab": {
   "collapsed_sections": [],
   "provenance": []
  },
  "kernelspec": {
   "display_name": "Python 3",
   "language": "python",
   "name": "python3"
  },
  "language_info": {
   "codemirror_mode": {
    "name": "ipython",
    "version": 3
   },
   "file_extension": ".py",
   "mimetype": "text/x-python",
   "name": "python",
   "nbconvert_exporter": "python",
   "pygments_lexer": "ipython3",
   "version": "3.8.8"
  }
 },
 "nbformat": 4,
 "nbformat_minor": 5
}
