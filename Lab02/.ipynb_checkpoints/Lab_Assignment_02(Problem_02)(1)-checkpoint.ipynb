{
 "cells": [
  {
   "cell_type": "markdown",
   "metadata": {
    "id": "8f320GivejP0"
   },
   "source": [
    "# **Problem 2:Visiting Paris**"
   ]
  },
  {
   "cell_type": "code",
   "execution_count": 4,
   "metadata": {
    "id": "oJjMq36gEMIj"
   },
   "outputs": [],
   "source": [
    "from pulp import *\n",
    "import pandas as pd\n",
    "import numpy as np"
   ]
  },
  {
   "cell_type": "markdown",
   "metadata": {
    "id": "kFlxGKK-d_lo"
   },
   "source": [
    "\n",
    "# Question-01"
   ]
  },
  {
   "cell_type": "code",
   "execution_count": 5,
   "metadata": {
    "colab": {
     "base_uri": "https://localhost:8080/"
    },
    "id": "TPhAhsDfEm4B",
    "outputId": "83054cab-352e-4b76-ccd8-f81798f28eff"
   },
   "outputs": [
    {
     "data": {
      "text/plain": [
       "1"
      ]
     },
     "execution_count": 5,
     "metadata": {},
     "output_type": "execute_result"
    }
   ],
   "source": [
    "prob = LpProblem('Site_Recommended',LpMaximize) # Model\n",
    "\n",
    "TE=LpVariable(\"TE\",0,1,LpInteger) #Variables\n",
    "ML=LpVariable(\"ML\",0,1,LpInteger) \n",
    "AT=LpVariable(\"AT\",0,1,LpInteger) \n",
    "MO=LpVariable(\"MO\",0,1,LpInteger) \n",
    "JT=LpVariable(\"JT\",0,1,LpInteger)\n",
    "CA=LpVariable(\"CA\",0,1,LpInteger) \n",
    "CP=LpVariable(\"CP\",0,1,LpInteger) \n",
    "CN=LpVariable(\"CN\",0,1,LpInteger) \n",
    "BS=LpVariable(\"BS\",0,1,LpInteger) \n",
    "SC=LpVariable(\"SC\",0,1,LpInteger) \n",
    "PC=LpVariable(\"PC\",0,1,LpInteger) \n",
    "TM=LpVariable(\"TM\",0,1,LpInteger) \n",
    "AC=LpVariable(\"AC\",0,1,LpInteger) \n",
    "prob += TE + ML+ AT+MO+JT+CA+CP+CN+BS+SC+PC+TM+AC\n",
    "prob += 9/2*TE + 3*ML+1*AT+2*MO+3/2*JT+2*CA+5/2*CP+2*CN+2*BS+3/2*SC+3/4*PC+2*TM+3/2*AC<=12  \n",
    "\n",
    "prob += 15.5*TE + 12*ML+9.5*AT+11*MO+0*JT+10*CA+10*CP+5*CN+8*BS+8.5*SC+0*PC+15*TM+0*AC<=65  \n",
    "\n",
    "\n",
    "\n",
    "prob.writeLP(\"ListVisit1.lp\")\n",
    "prob.solve()\n"
   ]
  },
  {
   "cell_type": "code",
   "execution_count": 6,
   "metadata": {
    "colab": {
     "base_uri": "https://localhost:8080/"
    },
    "id": "Nv2km2n9K3oG",
    "outputId": "c32e0bff-13e3-4f7c-dfc0-598a540c2c2d"
   },
   "outputs": [
    {
     "name": "stdout",
     "output_type": "stream",
     "text": [
      "status: Optimal\n",
      "The list of maximun visited sites: ['AC', 'AT', 'BS', 'CA', 'CN', 'PC', 'SC']\n"
     ]
    }
   ],
   "source": [
    "print(\"status:\",LpStatus[prob.status])\n",
    "listVisit1=[]\n",
    "for v in prob.variables():\n",
    "  if(v.varValue==1.0):\n",
    "    listVisit1.append(v.name)\n",
    "\n",
    "print(\"The list of maximun visited sites:\",listVisit1)"
   ]
  },
  {
   "cell_type": "code",
   "execution_count": 24,
   "metadata": {
    "id": "hMKX8Qa4QRGR"
   },
   "outputs": [],
   "source": [
    "from numpy.core.fromnumeric import size\n",
    "distance_matrix = np.array([[0 ,3.8 ,2.1, 2.4 ,3.5, 4.2, 5.0, 4.4, 5.5, 4.2, 2.5, 3.1, 1.9],\n",
    "                       [3.8 ,0, 3.8, 1.1, 1.3, 3.3, 1.3, 1.1, 3.4 ,0.800, 1.7 ,2.5 ,2.8],\n",
    "                       [2.1,3.8,0 ,3.1, 3.0, 5.8, 4.8, 4.9, 4.3, 4.6, 2.2, 4.4, 1.0],\n",
    "                       [2.4,2.1,3.8,0, 0.900 ,3.1 ,2.5 ,2.0 ,3.9 ,1.8 ,1.0 ,2.3 ,2.1],\n",
    "                       [3.5,2.4,2.1,3.8,0 ,4.2, 2.0, 2.4, 2.7, 2.0, 1.0 ,3.4 ,2.1],\n",
    "                       [4.2,3.5,2.4,2.1,3.8,0 ,3.5, 2.7 ,6.5 ,2.6 ,3.8 ,1.3 ,4.9],\n",
    "                       [5.0,4.2,3.5,2.4,2.1,3.8,0 ,0.850, 3.7, 0.900, 2.7, 3.4 ,3.8],\n",
    "                       [4.4,5.0,4.2,3.5,2.4,2.1,3.8,0, 4.5, 0.400, 2.8, 2.7 ,3.9],\n",
    "                       [5.5,4.4,5.0,4.2,3.5,2.4,2.1,3.8,0 ,4.2, 3.3, 5.7 ,3.8],\n",
    "                       [4.2,5.5,4.4,5.0,4.2,3.5,2.4,2.1,3.8,0 ,2.5 ,2.6 ,3.6],\n",
    "                       [2.5,4.2,5.5,4.4,5.0,4.2,3.5,2.4,2.1,3.8,0 ,3.0, 1.2],\n",
    "                       [3.1,2.5,4.2,5.5,4.4,5.0,4.2,3.5,2.4,2.1,3.8,0 ,2.1],\n",
    "                       [1.9,3.1,2.5,4.2,5.5,4.4,5.0,4.2,3.5,2.4,2.1,3.8,0]]\n",
    "                  )\n",
    "\n"
   ]
  },
  {
   "cell_type": "markdown",
   "metadata": {
    "id": "KO6Ni6EOmfww"
   },
   "source": [
    "# 2(a)"
   ]
  },
  {
   "cell_type": "code",
   "execution_count": 112,
   "metadata": {
    "colab": {
     "base_uri": "https://localhost:8080/"
    },
    "id": "KGPJlPLuUWxG",
    "outputId": "fb7eef13-58ae-4a1b-9284-0e144687180a"
   },
   "outputs": [
    {
     "name": "stdout",
     "output_type": "stream",
     "text": [
      "13\n",
      "['(', 0, 0, ')', 'next', '(', 1, 1, ')', '(', 1, 9, ')', 'next', '(', 2, 2, ')', '(', 2, 12, ')', 'next', '(', 3, 3, ')', '(', 3, 4, ')', '(', 3, 10, ')', 'next', '(', 4, 4, ')', '(', 4, 10, ')', 'next', '(', 5, 5, ')', 'next', '(', 6, 6, ')', '(', 6, 7, ')', '(', 6, 9, ')', 'next', '(', 7, 7, ')', '(', 7, 9, ')', 'next', '(', 8, 8, ')', 'next', '(', 9, 9, ')', 'next', '(', 10, 10, ')', 'next', '(', 11, 11, ')', 'next', '(', 12, 12, ')', 'next']\n",
      "List of places within radious 1 km\n",
      "Preference1\n",
      "['AC', 'AT', 'CN', 'CP', 'JT', 'ML', 'MO', 'PC', 'SC']\n"
     ]
    }
   ],
   "source": [
    "index=[]\n",
    "l = len(distance_matrix)\n",
    "print(l)\n",
    "for a in range(l):\n",
    "  for b in range(l):\n",
    "    if(distance_matrix[a][b]<=1):\n",
    "      index.append('(')\n",
    "      index.append(a)\n",
    "      index.append(b)\n",
    "      index.append(')')\n",
    "  index.append(\"next\")\n",
    "print(index)\n",
    "print('List of places within radious 1 km')\n",
    "print('Preference1')\n",
    "#TE ML AT MO JT CA CP CN BS SC PC TM AC\n",
    "preference=['ML-SC','AT-AC','MO-JT','MO-PC','JT-PC','CP-CN','CN-SC']\n",
    "preference1=['ML','SC','AT','AC','MO','JT','PC','CP','CN']\n",
    "preference1.sort();\n",
    "print(preference1)"
   ]
  },
  {
   "cell_type": "code",
   "execution_count": 107,
   "metadata": {
    "colab": {
     "base_uri": "https://localhost:8080/"
    },
    "id": "IxMCUTcpkgO5",
    "outputId": "27fcad31-0b66-4d17-f31e-5d52a5a72e0d"
   },
   "outputs": [
    {
     "name": "stdout",
     "output_type": "stream",
     "text": [
      "Preference2 list based on time and duration(giving priority to time)\n",
      "['AT', 'CA', 'JT', 'PC', 'SC', 'TE']\n",
      "Preference2 list based on time and duration(Giving priority to Price(\n",
      "['AC', 'CA', 'JT', 'PC', 'TE']\n"
     ]
    }
   ],
   "source": [
    "import collections\n",
    "\n",
    "preference2_1=['TE','CA']\n",
    "preference2_2=['TE','CA']\n",
    "from collections import OrderedDict\n",
    "time = {'ML': 3, 'AT': 1, 'MO': 2,'JT':3/2,'CP':5/2,'CN':2, 'BS':2, 'SC':3/2, 'PC':3/4, 'TM':2,'AC':3/2}\n",
    "price={'ML': 12, 'AT': 9.50,'MO': 11,'JT':0,'CP':10,'CN':5, 'BS':8, 'SC':8.50, 'PC':0, 'TM':15,'AC':0}\n",
    "time ={k: v for k, v in sorted(dict.items(), key=lambda item: item[1])}\n",
    "\n",
    "#print(time)\n",
    "#print(price)\n",
    "remaining_time=(12-(9/2+2))\n",
    "#print(remaining_time)\n",
    "remaining_price=(65-(15.50+10))\n",
    "#print(remaining_price)\n",
    "val_sum = 0  \n",
    "placeList=[]\n",
    "for key in time:\n",
    "    # getting sum\n",
    "    val_sum += time[key]\n",
    "    if(val_sum <=remaining_time):\n",
    "      placeList.append(key)\n",
    "preference2_1.extend(placeList)\n",
    "print(\"Preference2 list based on time and duration(giving priority to time)\")\n",
    "preference2_1.sort()\n",
    "print(preference2_1)\n",
    "\n",
    "price={'ML': 12, 'AT': 9.50,'MO': 11,'JT':0,'CP':10,'CN':5, 'BS':8, 'SC':8.50, 'PC':0, 'TM':15,'AC':0}\n",
    "sorted_price= sorted(price.items(), key=lambda kv: kv[1])\n",
    "\n",
    "sorted_price = collections.OrderedDict(sorted_price)\n",
    "#print(sorted_price)\n",
    "val_sum = 0  \n",
    "placeList=[]\n",
    "for key in sorted_price:\n",
    "    # getting sum\n",
    "    val_sum += sorted_price[key]\n",
    "    if(val_sum <=remaining_price):\n",
    "      placeList.append(key)\n",
    "#print(placeList)\n",
    "preference2_2.append(placeList[0])\n",
    "preference2_2.append(placeList[1])\n",
    "preference2_2.append(placeList[2])\n",
    "print(\"Preference2 list based on time and duration(Giving priority to Price(\")\n",
    "preference2_2.sort()\n",
    "print(preference2_2)\n"
   ]
  },
  {
   "cell_type": "code",
   "execution_count": 108,
   "metadata": {
    "colab": {
     "base_uri": "https://localhost:8080/"
    },
    "id": "l8cYe6rsIv8l",
    "outputId": "2c8fafd0-930b-4e74-a5b1-2e88b9e8b2f3"
   },
   "outputs": [
    {
     "name": "stdout",
     "output_type": "stream",
     "text": [
      "Preference3 list based on time and duration(giving priority to time)\n",
      "['AC', 'AT', 'CA', 'CN', 'JT', 'MO', 'PC']\n",
      "Preference3 list based on time and duration(Giving priority to Price)\n",
      "['AC', 'AT', 'BS', 'CA', 'CN', 'CP', 'JT', 'MO', 'PC']\n"
     ]
    }
   ],
   "source": [
    "preference3_1=['CN']\n",
    "preference3_2=['CN']\n",
    "from collections import OrderedDict\n",
    "time = {'TE':9/2,'CA':2,'ML': 3, 'AT': 1, 'MO': 2,'JT':3/2,'CP':5/2, 'BS':2,'PC':3/4, 'TM':2,'AC':3/2}\n",
    "price={'TE':15.5,'CA':10,'ML': 12, 'AT': 9.50,'MO': 11,'JT':0,'CP':10, 'BS':8, 'PC':0, 'TM':15,'AC':0}\n",
    "sorted_time= sorted(time.items(), key=lambda kv: kv[1])\n",
    "sorted_time = collections.OrderedDict(sorted_time)\n",
    "#print(sorted_time)\n",
    "#print(price)\n",
    "remaining_time=(12-2)\n",
    "#print(remaining_time)\n",
    "remaining_price=(65-5)\n",
    "#print(remaining_price)\n",
    "val_sum = 0  \n",
    "placeList=[]\n",
    "for key in sorted_time:\n",
    "    # getting sum\n",
    "    val_sum += time[key]\n",
    "    if(val_sum <=remaining_time):\n",
    "      placeList.append(key)\n",
    "preference3_1.extend(placeList)\n",
    "print(\"Preference3 list based on time and duration(giving priority to time)\")\n",
    "preference3_1.sort()\n",
    "print(preference3_1)\n",
    "\n",
    "sorted_price= sorted(price.items(), key=lambda kv: kv[1])\n",
    "sorted_price = collections.OrderedDict(sorted_price)\n",
    "#print(sorted_price)\n",
    "val_sum = 0  \n",
    "placeList=[]\n",
    "for key in sorted_price:\n",
    "    # getting sum\n",
    "    val_sum += sorted_price[key]\n",
    "    if(val_sum <=remaining_price):\n",
    "      placeList.append(key)\n",
    "#print(placeList)\n",
    "preference3_2.extend(placeList)\n",
    "print(\"Preference3 list based on time and duration(Giving priority to Price)\")\n",
    "preference3_2.sort()\n",
    "print(preference3_2)\n"
   ]
  },
  {
   "cell_type": "code",
   "execution_count": 115,
   "metadata": {
    "colab": {
     "base_uri": "https://localhost:8080/"
    },
    "id": "1HE6jbQnMxIP",
    "outputId": "a19b19bf-b1ac-47f3-f0c7-b7338b43c484"
   },
   "outputs": [
    {
     "name": "stdout",
     "output_type": "stream",
     "text": [
      "Preference4 list based on time and duration(giving priority to time)\n",
      "['AC', 'AT', 'CA', 'JT', 'PC', 'SC', 'TM']\n"
     ]
    }
   ],
   "source": [
    "preference4=['TM']\n",
    "from collections import OrderedDict\n",
    "time = {'TE':9/2,'CA':2,'ML': 3, 'AT': 1, 'MO': 2,'JT':3/2,'CP':5/2, 'BS':2,'PC':3/4,'AC':3/2,'CN':2,'SC':3/2}\n",
    "price={'TE':15.5,'CA':10,'ML': 12, 'AT': 9.50,'MO': 11,'JT':0,'CP':10, 'BS':8, 'PC':0,'AC':0,'CN':5,'SC':8.50}\n",
    "sorted_time= sorted(time.items(), key=lambda kv: kv[1])\n",
    "sorted_time = collections.OrderedDict(sorted_time)\n",
    "#print(sorted_time)\n",
    "#print(price)\n",
    "remaining_time=(12-2)\n",
    "#print(remaining_time)\n",
    "remaining_price=(65-15)\n",
    "#print(remaining_price)\n",
    "val_sum = 0  \n",
    "placeList=[]\n",
    "for key in sorted_time:\n",
    "    # getting sum\n",
    "    val_sum += time[key]\n",
    "    if(val_sum <=remaining_time):\n",
    "      placeList.append(key)\n",
    "preference4.extend(placeList)\n",
    "print(\"Preference4 list based on time and duration(giving priority to time)\")\n",
    "preference4.sort()\n",
    "print(preference4)\n"
   ]
  },
  {
   "cell_type": "code",
   "execution_count": 114,
   "metadata": {
    "colab": {
     "base_uri": "https://localhost:8080/"
    },
    "id": "g31Cy6XD5Dep",
    "outputId": "79c9a258-195f-4806-8531-d62ed57faf05"
   },
   "outputs": [
    {
     "name": "stdout",
     "output_type": "stream",
     "text": [
      "Preference5 list based on time and duration(giving priority to time)\n",
      "['AC', 'AT', 'CP', 'JT', 'ML', 'PC', 'SC']\n"
     ]
    }
   ],
   "source": [
    "preference5=['ML','CP']\n",
    "\n",
    "from collections import OrderedDict\n",
    "time = {'TE':9/2,'CA':2, 'AT': 1, 'MO': 2,'JT':3/2, 'BS':2,'PC':3/4,'AC':3/2,'CN':2,'SC':3/2,'TM':2}\n",
    "price={'TE':15.5,'CA':10,'AT': 9.50,'MO': 11,'JT':0, 'BS':8, 'PC':0,'AC':0,'CN':5,'SC':8.50,'TM':15}\n",
    "sorted_time= sorted(time.items(), key=lambda kv: kv[1])\n",
    "sorted_time = collections.OrderedDict(sorted_time)\n",
    "#print(sorted_time)\n",
    "#print(price)\n",
    "remaining_time=(12-(3+5/2))\n",
    "#print(remaining_price)\n",
    "val_sum = 0  \n",
    "placeList=[]\n",
    "for key in sorted_time:\n",
    "    # getting sum\n",
    "    val_sum += time[key]\n",
    "    if(val_sum <=remaining_time):\n",
    "      placeList.append(key)\n",
    "preference5.extend(placeList)\n",
    "print(\"Preference5 list based on time and duration(giving priority to time)\")\n",
    "preference5.sort()\n",
    "print(preference5)"
   ]
  },
  {
   "cell_type": "code",
   "execution_count": 120,
   "metadata": {
    "colab": {
     "base_uri": "https://localhost:8080/"
    },
    "id": "-CcsrZ7cSKFq",
    "outputId": "44daeeef-29d1-4243-9f27-6f3582e47c00"
   },
   "outputs": [
    {
     "name": "stdout",
     "output_type": "stream",
     "text": [
      "Are listVisit1 and preferencelist1 identical?\n",
      "False\n",
      "Are listVisit1 and preferencelist2_1 identical?\n",
      "False\n",
      "Are listVisit1 and preferencelist2_1 identical?\n",
      "False\n",
      "Are listVisit1 and preferencelist3_1 identical?\n",
      "False\n",
      "Are listVisit1 and preferencelist3_2 identical?\n",
      "False\n",
      "Are listVisit1 and preferencelist4 identical?\n",
      "False\n",
      "Are listVisit1 and preferencelist5 identical?\n",
      "False\n"
     ]
    }
   ],
   "source": [
    "def list_identical(l1, l2):\n",
    "    for i in range(min(len(l1), len(l2))):\n",
    "        if l1[i] != l2[i]:\n",
    "            return False\n",
    "    return len(l1) == len(l2)\n",
    "print(\"Are listVisit1 and preferencelist1 identical?\")\n",
    "print(list_identical(listVisit1,preference1))\n",
    "print(\"Are listVisit1 and preferencelist2_1 identical?\")\n",
    "print(list_identical(listVisit1,preference2_1))\n",
    "print(\"Are listVisit1 and preferencelist2_1 identical?\")\n",
    "print(list_identical(listVisit1,preference2_2))\n",
    "print(\"Are listVisit1 and preferencelist3_1 identical?\")\n",
    "print(list_identical(listVisit1,preference3_1))\n",
    "print(\"Are listVisit1 and preferencelist3_2 identical?\")\n",
    "print(list_identical(listVisit1,preference3_2))\n",
    "print(\"Are listVisit1 and preferencelist4 identical?\")\n",
    "print(list_identical(listVisit1,preference4))\n",
    "print(\"Are listVisit1 and preferencelist5 identical?\")\n",
    "print(list_identical(listVisit1,preference5))\n"
   ]
  },
  {
   "cell_type": "markdown",
   "metadata": {
    "id": "CEgyKD-dT_dt"
   },
   "source": [
    "# 2(b)"
   ]
  },
  {
   "cell_type": "code",
   "execution_count": 137,
   "metadata": {
    "colab": {
     "base_uri": "https://localhost:8080/"
    },
    "id": "YYIazaLDUHCE",
    "outputId": "0e8b85bc-9d9e-4050-f4f5-82e3d2cb8277"
   },
   "outputs": [
    {
     "name": "stdout",
     "output_type": "stream",
     "text": [
      "Based on preference1 and preference2_1,the recommended list:\n",
      "['AT', 'JT', 'PC', 'SC']\n"
     ]
    }
   ],
   "source": [
    "def list_contains(n_list,List1, List2):\n",
    "  \n",
    "\n",
    "    # Iterate in the 1st list\n",
    "    for m in List1:\n",
    "\n",
    "        # Iterate in the 2nd list\n",
    "        for n in List2:\n",
    "\n",
    "            # if there is a match\n",
    "            if m == n:\n",
    "              n_list.append(m)\n",
    "\n",
    "\n",
    "    return n_list\n",
    "n_list=[]\n",
    "n_list=list_contains(n_list,preference1,preference2_1)\n",
    "print(\"Based on preference1 and preference2_1,the recommended list:\")\n",
    "print(n_list)"
   ]
  },
  {
   "cell_type": "markdown",
   "metadata": {
    "id": "0g-cYnscaO3E"
   },
   "source": [
    "# 2(c)\n"
   ]
  },
  {
   "cell_type": "code",
   "execution_count": 138,
   "metadata": {
    "colab": {
     "base_uri": "https://localhost:8080/"
    },
    "id": "SvYbf8MVaD4f",
    "outputId": "8da93858-faff-4229-bf85-22a0e401edd2"
   },
   "outputs": [
    {
     "name": "stdout",
     "output_type": "stream",
     "text": [
      "Based on preference1 and preference3_2,the recommended list:\n",
      "['AC', 'AT', 'CN', 'CP', 'JT', 'MO', 'PC']\n"
     ]
    }
   ],
   "source": [
    "n_list=[]\n",
    "n_list=list_contains(n_list,preference1,preference3_2)\n",
    "print(\"Based on preference1 and preference3_2,the recommended list:\")\n",
    "print(n_list)"
   ]
  },
  {
   "cell_type": "markdown",
   "metadata": {
    "id": "ZcKLNp1VaUPl"
   },
   "source": [
    "#2(d)"
   ]
  },
  {
   "cell_type": "code",
   "execution_count": 139,
   "metadata": {
    "colab": {
     "base_uri": "https://localhost:8080/"
    },
    "id": "AxsTDGieaXMJ",
    "outputId": "11241dba-7370-462f-ed6b-f4192fcd2cca"
   },
   "outputs": [
    {
     "name": "stdout",
     "output_type": "stream",
     "text": [
      "Based on preference1 and preference4,the recommended list:\n",
      "['AC', 'AT', 'JT', 'PC', 'SC']\n"
     ]
    }
   ],
   "source": [
    "n_list=[]\n",
    "n_list=list_contains(n_list,preference1,preference4)\n",
    "print(\"Based on preference1 and preference4,the recommended list:\")\n",
    "print(n_list)"
   ]
  },
  {
   "cell_type": "markdown",
   "metadata": {
    "id": "6CyHiRLyaffh"
   },
   "source": [
    "# 2(e)"
   ]
  },
  {
   "cell_type": "code",
   "execution_count": 140,
   "metadata": {
    "colab": {
     "base_uri": "https://localhost:8080/"
    },
    "id": "LoZZffIxaigW",
    "outputId": "e4c92d6d-d203-4fd7-ec71-aa0813b9a630"
   },
   "outputs": [
    {
     "name": "stdout",
     "output_type": "stream",
     "text": [
      "Based on preference2 and preference5,the recommended list:\n",
      "['AT', 'JT', 'PC', 'SC']\n"
     ]
    }
   ],
   "source": [
    "n_list=[]\n",
    "n_list=list_contains(n_list,preference2_1,preference5)\n",
    "print(\"Based on preference2 and preference5,the recommended list:\")\n",
    "print(n_list)"
   ]
  },
  {
   "cell_type": "markdown",
   "metadata": {
    "id": "rXXi7zxMav5I"
   },
   "source": [
    "# 2(f)"
   ]
  },
  {
   "cell_type": "code",
   "execution_count": 141,
   "metadata": {
    "colab": {
     "base_uri": "https://localhost:8080/"
    },
    "id": "6uq9i2emaxa5",
    "outputId": "e0249175-9f74-4b15-e027-60603ee3b293"
   },
   "outputs": [
    {
     "name": "stdout",
     "output_type": "stream",
     "text": [
      "Based on preference3 and preference4,the recommended list:\n",
      "['AC', 'AT', 'CA', 'JT', 'PC']\n"
     ]
    }
   ],
   "source": [
    "n_list=[]\n",
    "n_list=list_contains(n_list,preference3_2,preference4)\n",
    "print(\"Based on preference3 and preference4,the recommended list:\")\n",
    "print(n_list)"
   ]
  },
  {
   "cell_type": "markdown",
   "metadata": {
    "id": "8YhvhW9HbBij"
   },
   "source": [
    "#2(g)"
   ]
  },
  {
   "cell_type": "code",
   "execution_count": 142,
   "metadata": {
    "colab": {
     "base_uri": "https://localhost:8080/"
    },
    "id": "TdDxNPDTbEbX",
    "outputId": "dcf3f96c-8466-453b-b847-25186dc0c252"
   },
   "outputs": [
    {
     "name": "stdout",
     "output_type": "stream",
     "text": [
      "Based on preference4 and preference5,the recommended list:\n",
      "['AC', 'AT', 'JT', 'PC', 'SC']\n"
     ]
    }
   ],
   "source": [
    "n_list=[]\n",
    "n_list=list_contains(n_list,preference4,preference5)\n",
    "print(\"Based on preference4 and preference5,the recommended list:\")\n",
    "print(n_list)"
   ]
  },
  {
   "cell_type": "markdown",
   "metadata": {
    "id": "rXPmdBezbNpX"
   },
   "source": [
    "#2(h)"
   ]
  },
  {
   "cell_type": "code",
   "execution_count": 144,
   "metadata": {
    "colab": {
     "base_uri": "https://localhost:8080/"
    },
    "id": "JXWOAneibPhT",
    "outputId": "3a5586f6-c2ac-4c89-a7e6-4c303d7387d5"
   },
   "outputs": [
    {
     "name": "stdout",
     "output_type": "stream",
     "text": [
      "Based on preference1,preference2 and preference4,the recommended list:\n",
      "['AT', 'JT', 'PC', 'SC']\n"
     ]
    }
   ],
   "source": [
    "def list_contains(n_list,List1, List2,list3):\n",
    "  \n",
    "\n",
    "    # Iterate in the 1st list\n",
    "    for m in List1:\n",
    "\n",
    "        # Iterate in the 2nd list\n",
    "        for n in List2:\n",
    "          for o in list3:\n",
    "            if m == n and m==o:\n",
    "              n_list.append(m)\n",
    "\n",
    "\n",
    "    return n_list\n",
    "n_list=[]\n",
    "n_list=list_contains(n_list,preference1,preference2_1,preference4)\n",
    "print(\"Based on preference1,preference2 and preference4,the recommended list:\")\n",
    "print(n_list)"
   ]
  },
  {
   "cell_type": "markdown",
   "metadata": {
    "id": "1chgXBfgcSCR"
   },
   "source": [
    "# 2(i)"
   ]
  },
  {
   "cell_type": "code",
   "execution_count": 145,
   "metadata": {
    "colab": {
     "base_uri": "https://localhost:8080/"
    },
    "id": "ZP-qB6nscU-q",
    "outputId": "9fd5906c-2187-46c6-bc35-7055d58ee055"
   },
   "outputs": [
    {
     "name": "stdout",
     "output_type": "stream",
     "text": [
      "Based on preference2,preference3 and preference5,the recommended list:\n",
      "['AT', 'JT', 'PC']\n"
     ]
    }
   ],
   "source": [
    "n_list=[]\n",
    "n_list=list_contains(n_list,preference2_1,preference3_1,preference5)\n",
    "print(\"Based on preference2,preference3 and preference5,the recommended list:\")\n",
    "print(n_list)"
   ]
  },
  {
   "cell_type": "markdown",
   "metadata": {
    "id": "oaRR05bace9F"
   },
   "source": [
    "# 2(j)"
   ]
  },
  {
   "cell_type": "code",
   "execution_count": 146,
   "metadata": {
    "colab": {
     "base_uri": "https://localhost:8080/"
    },
    "id": "5vhA3n0_cRNQ",
    "outputId": "518bf33e-c7ac-46f8-f3b0-fea53851183f"
   },
   "outputs": [
    {
     "name": "stdout",
     "output_type": "stream",
     "text": [
      "Based on preference2,preference3,preference4 and preference5,the recommended list:\n",
      "[]\n"
     ]
    }
   ],
   "source": [
    "def list_contains(n_list,List1, List2,list3,list4):\n",
    "  \n",
    "\n",
    "    # Iterate in the 1st list\n",
    "    for m in List1:\n",
    "\n",
    "        # Iterate in the 2nd list\n",
    "        for n in List2:\n",
    "          for o in list3:\n",
    "            for p in list4:\n",
    "              if m == n and m==o and m==p:\n",
    "                n_list.append(m)\n",
    "\n",
    "\n",
    "    return n_list\n",
    "n_list=[]\n",
    "n_list=list_contains(n_list,preference2_1,preference3,preference4,preference5)\n",
    "print(\"Based on preference2,preference3,preference4 and preference5,the recommended list:\")\n",
    "print(n_list)"
   ]
  },
  {
   "cell_type": "markdown",
   "metadata": {
    "id": "2-xFb5AudBfe"
   },
   "source": [
    "# 2(k)"
   ]
  },
  {
   "cell_type": "code",
   "execution_count": 147,
   "metadata": {
    "colab": {
     "base_uri": "https://localhost:8080/"
    },
    "id": "jBilDQlpdDQu",
    "outputId": "cf13e20c-e395-48d6-8ff2-d3786fcef53c"
   },
   "outputs": [
    {
     "name": "stdout",
     "output_type": "stream",
     "text": [
      "Based on preference1,preference2,preference4 and preference5,the recommended list:\n",
      "['AT', 'JT', 'PC', 'SC']\n"
     ]
    }
   ],
   "source": [
    "n_list=[]\n",
    "n_list=list_contains(n_list,preference1,preference2_1,preference4,preference5)\n",
    "print(\"Based on preference1,preference2,preference4 and preference5,the recommended list:\")\n",
    "print(n_list)"
   ]
  },
  {
   "cell_type": "markdown",
   "metadata": {
    "id": "uZBWilHMdOE_"
   },
   "source": [
    "# 2(l)"
   ]
  },
  {
   "cell_type": "code",
   "execution_count": 151,
   "metadata": {
    "colab": {
     "base_uri": "https://localhost:8080/"
    },
    "id": "RLUCdS8VdRJK",
    "outputId": "0ca21781-a2e9-41ad-a766-1e8d63b62247"
   },
   "outputs": [
    {
     "name": "stdout",
     "output_type": "stream",
     "text": [
      "Based on preference1,preference2,preference3 and preference4,preference5,the recommended list:\n",
      "['AT', 'JT', 'PC']\n"
     ]
    }
   ],
   "source": [
    "def list_contains(n_list,List1, List2,list3,list4,list5):\n",
    "  \n",
    "\n",
    "    # Iterate in the 1st list\n",
    "    for m in List1:\n",
    "\n",
    "        # Iterate in the 2nd list\n",
    "        for n in List2:\n",
    "          for o in list3:\n",
    "            for p in list4:\n",
    "              for q in list5:\n",
    "                if m == n and m==o and m==p and m==q:\n",
    "                  n_list.append(m)\n",
    "\n",
    "\n",
    "    return n_list\n",
    "\n",
    "n_list=[]\n",
    "n_list=list_contains(n_list,preference1,preference2_1,preference3_1,preference4,preference5)\n",
    "print(\"Based on preference1,preference2,preference3 and preference4,preference5,the recommended list:\")\n",
    "print(n_list)"
   ]
  }
 ],
 "metadata": {
  "colab": {
   "collapsed_sections": [],
   "provenance": []
  },
  "kernelspec": {
   "display_name": "Python 3",
   "language": "python",
   "name": "python3"
  },
  "language_info": {
   "codemirror_mode": {
    "name": "ipython",
    "version": 3
   },
   "file_extension": ".py",
   "mimetype": "text/x-python",
   "name": "python",
   "nbconvert_exporter": "python",
   "pygments_lexer": "ipython3",
   "version": "3.8.8"
  }
 },
 "nbformat": 4,
 "nbformat_minor": 1
}
