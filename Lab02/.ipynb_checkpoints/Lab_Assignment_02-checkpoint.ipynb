{
 "cells": [
  {
   "cell_type": "code",
   "execution_count": null,
   "metadata": {},
   "outputs": [],
   "source": []
  },
  {
   "cell_type": "code",
   "execution_count": 13,
   "metadata": {
    "id": "X6RCnbl62Iab"
   },
   "outputs": [],
   "source": [
    "from pulp import *"
   ]
  },
  {
   "cell_type": "code",
   "execution_count": 14,
   "metadata": {
    "colab": {
     "base_uri": "https://localhost:8080/"
    },
    "id": "MkYY3rTk3D6Z",
    "outputId": "fdb0fe61-4445-46a4-a777-e02aad857f63"
   },
   "outputs": [
    {
     "data": {
      "text/plain": [
       "1"
      ]
     },
     "execution_count": 14,
     "metadata": {},
     "output_type": "execute_result"
    }
   ],
   "source": [
    "prob = LpProblem('Profit_Maximize',LpMaximize) # Model\n",
    "\n",
    "x=LpVariable(\"Toy1_quantity\",0,None,LpInteger) #Variables\n",
    "y=LpVariable(\"Toy2_quantity\",0,None,LpInteger)\n",
    "\n",
    "prob += 25*x + 20*y # Objective\n",
    "\n",
    "prob += 20*x + 12*y <= 2000 #Constraints\n",
    "prob += 5*x + 5*y <= 540\n",
    "\n",
    "prob.writeLP(\"ToyProduction.lp\")\n",
    "prob.solve()\n"
   ]
  },
  {
   "cell_type": "code",
   "execution_count": 15,
   "metadata": {
    "colab": {
     "base_uri": "https://localhost:8080/"
    },
    "id": "fOk7-f6L4pmo",
    "outputId": "d6e36f72-1ce8-4bdc-daa1-4425d87ad992"
   },
   "outputs": [
    {
     "name": "stdout",
     "output_type": "stream",
     "text": [
      "status: Optimal\n",
      "Toy1_quantity = 88.0\n",
      "total maximized value=  2600.0\n",
      "Toy2_quantity = 20.0\n",
      "total maximized value=  2600.0\n"
     ]
    }
   ],
   "source": [
    "print(\"status:\",LpStatus[prob.status])\n",
    "\n",
    "for v in prob.variables():\n",
    "  print(v.name,\"=\",v.varValue)\n",
    "\n",
    "  print(\"total maximized value= \",value(prob.objective))"
   ]
  }
 ],
 "metadata": {
  "colab": {
   "provenance": []
  },
  "kernelspec": {
   "display_name": "Python 3",
   "language": "python",
   "name": "python3"
  },
  "language_info": {
   "codemirror_mode": {
    "name": "ipython",
    "version": 3
   },
   "file_extension": ".py",
   "mimetype": "text/x-python",
   "name": "python",
   "nbconvert_exporter": "python",
   "pygments_lexer": "ipython3",
   "version": "3.8.8"
  }
 },
 "nbformat": 4,
 "nbformat_minor": 1
}
