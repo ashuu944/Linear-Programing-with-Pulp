{
 "cells": [
  {
   "cell_type": "markdown",
   "metadata": {},
   "source": [
    "## LINEAR PROGRAMING & PREFERENCES"
   ]
  },
  {
   "cell_type": "markdown",
   "metadata": {},
   "source": [
    "Linear programming is the technique used to maximize or minimize a function. The idea is to optimize a complex function by best\n",
    "representing them with linear relationships. In simpler terms, we try to optimize (to maximize or minimize) a function denoted in linear terms and bounded by linear constraints. \n",
    "\n",
    "This notebook will use PuLP python package that can be used to solve optimization problems using Linear programming."
   ]
  },
  {
   "cell_type": "code",
   "execution_count": 253,
   "metadata": {
    "id": "oJjMq36gEMIj"
   },
   "outputs": [],
   "source": [
    "#import libraries\n",
    "from pulp import *\n",
    "import pandas as pd\n",
    "import numpy as np\n",
    "from scipy import stats"
   ]
  },
  {
   "cell_type": "markdown",
   "metadata": {},
   "source": [
    "### Exercise 1: Profit Maximazation"
   ]
  },
  {
   "cell_type": "markdown",
   "metadata": {},
   "source": [
    "A toy manufacturing organization manufactures two types of toys A and B. Both the toys are sold at 25EUR0 and 20 EURO respectively.\n",
    "There are 2000 resource units available every day from which the toy A requires 20 units while toy B requires 12 units. Both of these toys require a production time of 5 minutes. Total working hours are 9 hours a day. \n",
    "\n",
    "What should be the manufacturing quantity for each of the pipes to maximize the profits ?"
   ]
  },
  {
   "cell_type": "code",
   "execution_count": 254,
   "metadata": {},
   "outputs": [],
   "source": [
    "#Initialize the problem, since we nee to maximize the profit we will use LpMaximize\n",
    "prob_profit = LpProblem('Profit_Maximize',LpMaximize) # Model"
   ]
  },
  {
   "cell_type": "code",
   "execution_count": 255,
   "metadata": {},
   "outputs": [],
   "source": [
    "#Defining problem variables\n",
    "x=LpVariable(\"Toy1_quantity\",0,None,LpInteger) \n",
    "y=LpVariable(\"Toy2_quantity\",0,None,LpInteger)"
   ]
  },
  {
   "cell_type": "code",
   "execution_count": 256,
   "metadata": {},
   "outputs": [
    {
     "data": {
      "text/plain": [
       "1"
      ]
     },
     "execution_count": 256,
     "metadata": {},
     "output_type": "execute_result"
    }
   ],
   "source": [
    "#Objective function\n",
    "prob_profit += 25*x + 20*y\n",
    "\n",
    "#Constraints\n",
    "prob_profit += 20*x + 12*y <= 2000 #constraints for resources\n",
    "prob_profit += 5*x + 5*y <= 540    #constraints for time: 9 hours = 540min\n",
    "\n",
    "prob_profit.writeLP(\"ToyProduction.lp\")\n",
    "prob_profit.solve()\n"
   ]
  },
  {
   "cell_type": "markdown",
   "metadata": {},
   "source": [
    "#### Status code"
   ]
  },
  {
   "cell_type": "markdown",
   "metadata": {},
   "source": [
    "There are 5 status codes:\n",
    "\n",
    "    1. Not Solved: Status prior to solving the problem.\n",
    "    2. Optimal: An optimal solution has been found.\n",
    "    3. Infeasible: There are no feasible solutions (e.g. if you set the constraints x <= 1 and x >=2).\n",
    "    4. Unbounded: The constraints are not bounded, maximising the solution will tend towards infinity.\n",
    "    5. Undefined: The optimal solution may exist but may not have been found.\n",
    "\n"
   ]
  },
  {
   "cell_type": "code",
   "execution_count": 257,
   "metadata": {},
   "outputs": [
    {
     "data": {
      "text/plain": [
       "'Optimal'"
      ]
     },
     "execution_count": 257,
     "metadata": {},
     "output_type": "execute_result"
    }
   ],
   "source": [
    "#Checking the status of the problem\n",
    "LpStatus[prob_profit.status]"
   ]
  },
  {
   "cell_type": "code",
   "execution_count": 258,
   "metadata": {},
   "outputs": [
    {
     "name": "stdout",
     "output_type": "stream",
     "text": [
      "To maximize the profit of manufacturing organization, we need the following quantity:\n",
      "Toy1_quantity = 88\n",
      "Toy2_quantity = 20\n",
      "The maximized profit will be =  2600\n"
     ]
    }
   ],
   "source": [
    "print(\"To maximize the profit of manufacturing organization, we need the following quantity:\" )\n",
    "\n",
    "for v in prob_profit.variables():\n",
    "    print(v.name,\"=\",v.varValue)\n",
    "\n",
    "print (\"The maximized profit will be = \",value(prob_profit.objective) )\n"
   ]
  },
  {
   "cell_type": "markdown",
   "metadata": {},
   "source": [
    "### Exercise 2: How to visit Paris ?"
   ]
  },
  {
   "cell_type": "markdown",
   "metadata": {},
   "source": [
    "John Doe, an American researcher, goes to Paris to present an article at a conference. It is his first time in the French capital. He arrives on Monday and he intends to spend the whole week at the conference. However, the conference ends on Friday, and Mr. Doe leaves only on Sunday in the end evening. So he has the opportunity to visit the city during the weekend. He gives himself 12 hours on the two days to fully visit Paris with a maximum budget of 65 EURO.\n",
    "\n",
    "By doing his own research (via some social medias for instance), he finds that it is interesting to visit : La Tour Eiffel (TE), Le Musée du louvre (ML), l’Arc de triomphe (AT), le Musée d’Orsay (MO), le Jardin des tuileries (JT), les Catacombes (CA), le Centre Pompidou(CP), la Cathédrale Notre Dame de Paris (CN), la Basilique du Sacré-Coeur (BS), la Sainte Chapelle (SC), La Place de la Concorde (PC), la Tour Montparnasse (TM) and l’Avenue des Champs-Elysées (AC)."
   ]
  },
  {
   "cell_type": "code",
   "execution_count": 259,
   "metadata": {},
   "outputs": [],
   "source": [
    "site_names=['TE','ML','AT','MO','JT','CA','CP','CN','BS','SC','PC','TM','AC'] #site name\n",
    "duration= [9/2, 3, 1, 2, 3/2, 2, 5/2, 2, 2, 3/2, 3/4, 2, 3/2] #duration in hours\n",
    "price= [15.50, 12, 9.50, 11, 0, 10, 10, 5, 8, 8.50, 0, 15, 0] #price in euro   \n",
    "    \n",
    "max_budget = 65 #price in euro\n",
    "max_duration = 12 #hours\n",
    "    \n",
    "#defining problem variables\n",
    "p_var = [LpVariable(site_name, 0, 1,LpInteger) for site_name in site_names]\n",
    "    \n",
    "#places informations\n",
    "sites_info ={i: j for i, j in zip(site_names,p_var)}"
   ]
  },
  {
   "cell_type": "code",
   "execution_count": 260,
   "metadata": {},
   "outputs": [],
   "source": [
    "def initial_constraints(p):\n",
    "\n",
    "\n",
    "    #object function\n",
    "    p += lpSum([p_var[i] for i in range(len(p_var))])\n",
    "\n",
    "    #constraints\n",
    "\n",
    "\n",
    "    p += lpSum([p_var[i] * price[i] for i in range(len(p_var))]) <= max_budget\n",
    "\n",
    "    p += lpSum([p_var[i] * duration[i] for i in range(len(p_var))]) <= max_duration \n",
    "    "
   ]
  },
  {
   "cell_type": "markdown",
   "metadata": {},
   "source": [
    "#### 2.1 What is the maximum number of site Mr Doe can visit? \n",
    "It is assumed that Mr. Doe gives equal importance to each tourist site, and he wants to visit the maximum number of sites. Which\n",
    "list(s) of places could you recommend to him ? This solution will be called ListVisit 1."
   ]
  },
  {
   "cell_type": "code",
   "execution_count": 261,
   "metadata": {},
   "outputs": [
    {
     "data": {
      "text/plain": [
       "'Optimal'"
      ]
     },
     "execution_count": 261,
     "metadata": {},
     "output_type": "execute_result"
    }
   ],
   "source": [
    "#initiazlizing the problem\n",
    "prob_site = LpProblem('RecommendSites',LpMaximize)\n",
    "#call a function\n",
    "initial_constraints(prob_site)\n",
    "\n",
    "prob_site.writeLP(\"RecommendSites.lp\")\n",
    "\n",
    "prob_site.solve()\n",
    "LpStatus[prob_site.status]"
   ]
  },
  {
   "cell_type": "code",
   "execution_count": 262,
   "metadata": {
    "colab": {
     "base_uri": "https://localhost:8080/"
    },
    "id": "Nv2km2n9K3oG",
    "outputId": "8d65b148-a2de-42f3-a58c-50ac7cd24d00"
   },
   "outputs": [
    {
     "name": "stdout",
     "output_type": "stream",
     "text": [
      "AC = 1\n",
      "AT = 1\n",
      "BS = 1\n",
      "CA = 1\n",
      "CN = 0\n",
      "CP = 0\n",
      "JT = 1\n",
      "ML = 0\n",
      "MO = 0\n",
      "PC = 0\n",
      "SC = 1\n",
      "TE = 0\n",
      "TM = 1\n",
      "The maximum number of sites Mr Doe can visit is =  7\n",
      "The list of recommended sites is:  ['AC', 'AT', 'BS', 'CA', 'JT', 'SC', 'TM']\n"
     ]
    }
   ],
   "source": [
    "#creating an empty list to store the sites\n",
    "listVisit1=[]\n",
    "\n",
    "#printing the values of each site, 0 means not recommended and 1 means recommended\n",
    "for v in prob_site.variables():\n",
    "    print(v.name,\"=\",v.varValue)\n",
    "    if(v.varValue==1.0):\n",
    "        listVisit1.append(v.name) # store all the recommended sites\n",
    "\n",
    "#print(\"The list of maximun visited sites:\",listVisit1)\n",
    "\n",
    "print (\"The maximum number of sites Mr Doe can visit is = \",value(prob_site.objective) )\n",
    "print(\"The list of recommended sites is: \", listVisit1)"
   ]
  },
  {
   "cell_type": "markdown",
   "metadata": {},
   "source": [
    "#### 2.2 Recommended sites based on Mr Doe Preferences"
   ]
  },
  {
   "cell_type": "markdown",
   "metadata": {},
   "source": [
    "#### Preference 1: \n",
    "If two sites are geographically very close (within a radius of 1 km of walking), he will prefer to visit these two sites instead of visiting only one. "
   ]
  },
  {
   "cell_type": "code",
   "execution_count": 263,
   "metadata": {},
   "outputs": [
    {
     "data": {
      "text/html": [
       "<div>\n",
       "<style scoped>\n",
       "    .dataframe tbody tr th:only-of-type {\n",
       "        vertical-align: middle;\n",
       "    }\n",
       "\n",
       "    .dataframe tbody tr th {\n",
       "        vertical-align: top;\n",
       "    }\n",
       "\n",
       "    .dataframe thead th {\n",
       "        text-align: right;\n",
       "    }\n",
       "</style>\n",
       "<table border=\"1\" class=\"dataframe\">\n",
       "  <thead>\n",
       "    <tr style=\"text-align: right;\">\n",
       "      <th></th>\n",
       "      <th>TE</th>\n",
       "      <th>ML</th>\n",
       "      <th>AT</th>\n",
       "      <th>MO</th>\n",
       "      <th>JT</th>\n",
       "      <th>CA</th>\n",
       "      <th>CP</th>\n",
       "      <th>CN</th>\n",
       "      <th>BS</th>\n",
       "      <th>SC</th>\n",
       "      <th>PC</th>\n",
       "      <th>TM</th>\n",
       "      <th>AC</th>\n",
       "    </tr>\n",
       "  </thead>\n",
       "  <tbody>\n",
       "    <tr>\n",
       "      <th>TE</th>\n",
       "      <td>0.0</td>\n",
       "      <td>3.8</td>\n",
       "      <td>2.1</td>\n",
       "      <td>2.4</td>\n",
       "      <td>3.5</td>\n",
       "      <td>4.2</td>\n",
       "      <td>5.0</td>\n",
       "      <td>4.40</td>\n",
       "      <td>5.5</td>\n",
       "      <td>4.2</td>\n",
       "      <td>2.5</td>\n",
       "      <td>3.1</td>\n",
       "      <td>1.9</td>\n",
       "    </tr>\n",
       "    <tr>\n",
       "      <th>ML</th>\n",
       "      <td>0.0</td>\n",
       "      <td>0.0</td>\n",
       "      <td>3.8</td>\n",
       "      <td>1.1</td>\n",
       "      <td>1.3</td>\n",
       "      <td>3.3</td>\n",
       "      <td>1.3</td>\n",
       "      <td>1.10</td>\n",
       "      <td>3.4</td>\n",
       "      <td>0.8</td>\n",
       "      <td>1.7</td>\n",
       "      <td>2.5</td>\n",
       "      <td>2.8</td>\n",
       "    </tr>\n",
       "    <tr>\n",
       "      <th>AT</th>\n",
       "      <td>0.0</td>\n",
       "      <td>0.0</td>\n",
       "      <td>0.0</td>\n",
       "      <td>3.1</td>\n",
       "      <td>3.0</td>\n",
       "      <td>5.8</td>\n",
       "      <td>4.8</td>\n",
       "      <td>4.90</td>\n",
       "      <td>4.3</td>\n",
       "      <td>4.6</td>\n",
       "      <td>2.2</td>\n",
       "      <td>4.4</td>\n",
       "      <td>1.0</td>\n",
       "    </tr>\n",
       "    <tr>\n",
       "      <th>MO</th>\n",
       "      <td>0.0</td>\n",
       "      <td>0.0</td>\n",
       "      <td>0.0</td>\n",
       "      <td>0.0</td>\n",
       "      <td>0.9</td>\n",
       "      <td>3.1</td>\n",
       "      <td>2.5</td>\n",
       "      <td>2.00</td>\n",
       "      <td>3.9</td>\n",
       "      <td>1.8</td>\n",
       "      <td>1.0</td>\n",
       "      <td>2.3</td>\n",
       "      <td>2.1</td>\n",
       "    </tr>\n",
       "    <tr>\n",
       "      <th>JT</th>\n",
       "      <td>0.0</td>\n",
       "      <td>0.0</td>\n",
       "      <td>0.0</td>\n",
       "      <td>0.0</td>\n",
       "      <td>0.0</td>\n",
       "      <td>4.2</td>\n",
       "      <td>2.0</td>\n",
       "      <td>2.40</td>\n",
       "      <td>2.7</td>\n",
       "      <td>2.0</td>\n",
       "      <td>1.0</td>\n",
       "      <td>3.4</td>\n",
       "      <td>2.1</td>\n",
       "    </tr>\n",
       "    <tr>\n",
       "      <th>CA</th>\n",
       "      <td>0.0</td>\n",
       "      <td>0.0</td>\n",
       "      <td>0.0</td>\n",
       "      <td>0.0</td>\n",
       "      <td>0.0</td>\n",
       "      <td>0.0</td>\n",
       "      <td>3.5</td>\n",
       "      <td>2.70</td>\n",
       "      <td>6.5</td>\n",
       "      <td>2.6</td>\n",
       "      <td>3.8</td>\n",
       "      <td>1.3</td>\n",
       "      <td>4.9</td>\n",
       "    </tr>\n",
       "    <tr>\n",
       "      <th>CP</th>\n",
       "      <td>0.0</td>\n",
       "      <td>0.0</td>\n",
       "      <td>0.0</td>\n",
       "      <td>0.0</td>\n",
       "      <td>0.0</td>\n",
       "      <td>0.0</td>\n",
       "      <td>0.0</td>\n",
       "      <td>0.85</td>\n",
       "      <td>3.7</td>\n",
       "      <td>0.9</td>\n",
       "      <td>2.7</td>\n",
       "      <td>3.4</td>\n",
       "      <td>3.8</td>\n",
       "    </tr>\n",
       "    <tr>\n",
       "      <th>CN</th>\n",
       "      <td>0.0</td>\n",
       "      <td>0.0</td>\n",
       "      <td>0.0</td>\n",
       "      <td>0.0</td>\n",
       "      <td>0.0</td>\n",
       "      <td>0.0</td>\n",
       "      <td>0.0</td>\n",
       "      <td>0.00</td>\n",
       "      <td>4.5</td>\n",
       "      <td>0.4</td>\n",
       "      <td>2.8</td>\n",
       "      <td>2.7</td>\n",
       "      <td>3.9</td>\n",
       "    </tr>\n",
       "    <tr>\n",
       "      <th>BS</th>\n",
       "      <td>0.0</td>\n",
       "      <td>0.0</td>\n",
       "      <td>0.0</td>\n",
       "      <td>0.0</td>\n",
       "      <td>0.0</td>\n",
       "      <td>0.0</td>\n",
       "      <td>0.0</td>\n",
       "      <td>0.00</td>\n",
       "      <td>0.0</td>\n",
       "      <td>4.2</td>\n",
       "      <td>3.3</td>\n",
       "      <td>5.7</td>\n",
       "      <td>3.8</td>\n",
       "    </tr>\n",
       "    <tr>\n",
       "      <th>SC</th>\n",
       "      <td>0.0</td>\n",
       "      <td>0.0</td>\n",
       "      <td>0.0</td>\n",
       "      <td>0.0</td>\n",
       "      <td>0.0</td>\n",
       "      <td>0.0</td>\n",
       "      <td>0.0</td>\n",
       "      <td>0.00</td>\n",
       "      <td>0.0</td>\n",
       "      <td>0.0</td>\n",
       "      <td>2.5</td>\n",
       "      <td>2.6</td>\n",
       "      <td>3.6</td>\n",
       "    </tr>\n",
       "    <tr>\n",
       "      <th>PC</th>\n",
       "      <td>0.0</td>\n",
       "      <td>0.0</td>\n",
       "      <td>0.0</td>\n",
       "      <td>0.0</td>\n",
       "      <td>0.0</td>\n",
       "      <td>0.0</td>\n",
       "      <td>0.0</td>\n",
       "      <td>0.00</td>\n",
       "      <td>0.0</td>\n",
       "      <td>0.0</td>\n",
       "      <td>0.0</td>\n",
       "      <td>3.0</td>\n",
       "      <td>1.2</td>\n",
       "    </tr>\n",
       "    <tr>\n",
       "      <th>TM</th>\n",
       "      <td>0.0</td>\n",
       "      <td>0.0</td>\n",
       "      <td>0.0</td>\n",
       "      <td>0.0</td>\n",
       "      <td>0.0</td>\n",
       "      <td>0.0</td>\n",
       "      <td>0.0</td>\n",
       "      <td>0.00</td>\n",
       "      <td>0.0</td>\n",
       "      <td>0.0</td>\n",
       "      <td>0.0</td>\n",
       "      <td>0.0</td>\n",
       "      <td>2.1</td>\n",
       "    </tr>\n",
       "    <tr>\n",
       "      <th>AC</th>\n",
       "      <td>0.0</td>\n",
       "      <td>0.0</td>\n",
       "      <td>0.0</td>\n",
       "      <td>0.0</td>\n",
       "      <td>0.0</td>\n",
       "      <td>0.0</td>\n",
       "      <td>0.0</td>\n",
       "      <td>0.00</td>\n",
       "      <td>0.0</td>\n",
       "      <td>0.0</td>\n",
       "      <td>0.0</td>\n",
       "      <td>0.0</td>\n",
       "      <td>0.0</td>\n",
       "    </tr>\n",
       "  </tbody>\n",
       "</table>\n",
       "</div>"
      ],
      "text/plain": [
       "     TE   ML   AT   MO   JT   CA   CP    CN   BS   SC   PC   TM   AC\n",
       "TE  0.0  3.8  2.1  2.4  3.5  4.2  5.0  4.40  5.5  4.2  2.5  3.1  1.9\n",
       "ML  0.0  0.0  3.8  1.1  1.3  3.3  1.3  1.10  3.4  0.8  1.7  2.5  2.8\n",
       "AT  0.0  0.0  0.0  3.1  3.0  5.8  4.8  4.90  4.3  4.6  2.2  4.4  1.0\n",
       "MO  0.0  0.0  0.0  0.0  0.9  3.1  2.5  2.00  3.9  1.8  1.0  2.3  2.1\n",
       "JT  0.0  0.0  0.0  0.0  0.0  4.2  2.0  2.40  2.7  2.0  1.0  3.4  2.1\n",
       "CA  0.0  0.0  0.0  0.0  0.0  0.0  3.5  2.70  6.5  2.6  3.8  1.3  4.9\n",
       "CP  0.0  0.0  0.0  0.0  0.0  0.0  0.0  0.85  3.7  0.9  2.7  3.4  3.8\n",
       "CN  0.0  0.0  0.0  0.0  0.0  0.0  0.0  0.00  4.5  0.4  2.8  2.7  3.9\n",
       "BS  0.0  0.0  0.0  0.0  0.0  0.0  0.0  0.00  0.0  4.2  3.3  5.7  3.8\n",
       "SC  0.0  0.0  0.0  0.0  0.0  0.0  0.0  0.00  0.0  0.0  2.5  2.6  3.6\n",
       "PC  0.0  0.0  0.0  0.0  0.0  0.0  0.0  0.00  0.0  0.0  0.0  3.0  1.2\n",
       "TM  0.0  0.0  0.0  0.0  0.0  0.0  0.0  0.00  0.0  0.0  0.0  0.0  2.1\n",
       "AC  0.0  0.0  0.0  0.0  0.0  0.0  0.0  0.00  0.0  0.0  0.0  0.0  0.0"
      ]
     },
     "execution_count": 263,
     "metadata": {},
     "output_type": "execute_result"
    }
   ],
   "source": [
    "#creating a matrix to store distance\n",
    "site = [name for name in site_names]\n",
    "data = [[0, 3.8, 2.1, 2.4, 3.5, 4.2, 5.0,  4.4, 5.5, 4.2, 2.5, 3.1, 1.9],\n",
    "        [0,   0, 3.8, 1.1, 1.3, 3.3, 1.3,  1.1, 3.4, 0.800, 1.7, 2.5, 2.8],\n",
    "        [0,   0,   0, 3.1, 3.0, 5.8, 4.8,  4.9, 4.3, 4.6, 2.2, 4.4, 1.0],\n",
    "        [0,   0,   0,   0, 0.900, 3.1, 2.5,  2.0, 3.9, 1.8, 1.0, 2.3, 2.1],\n",
    "        [0,   0,   0,   0,   0, 4.2, 2.0,  2.4, 2.7, 2.0, 1.0, 3.4, 2.1],\n",
    "        [0,   0,   0,   0,   0,   0, 3.5,  2.7, 6.5, 2.6, 3.8, 1.3, 4.9],\n",
    "        [0,   0,   0,   0,   0,   0,   0, 0.850, 3.7, 0.900, 2.7, 3.4, 3.8],\n",
    "        [0,   0,   0,   0,   0,   0,   0,    0, 4.5, 0.400, 2.8, 2.7, 3.9],\n",
    "        [0,   0,   0,   0,   0,   0,   0,    0,   0, 4.2, 3.3, 5.7, 3.8],\n",
    "        [0,   0,   0,   0,   0,   0,   0,    0,   0,   0, 2.5, 2.6, 3.6],\n",
    "        [0,   0,   0,   0,   0,   0,   0,    0,   0,   0,   0, 3.0, 1.2],\n",
    "        [0,   0,   0,   0,   0,   0,   0,    0,   0,   0,   0,   0, 2.1],\n",
    "        [0,   0,   0,   0,   0,   0,   0,    0,   0,   0,   0,   0,   0]]\n",
    "    \n",
    "distance = pd.DataFrame(np.matrix(data), columns=site, index=site) #distance in km\n",
    "distance"
   ]
  },
  {
   "cell_type": "code",
   "execution_count": 264,
   "metadata": {},
   "outputs": [],
   "source": [
    "#constraints of preference 1\n",
    "def preference1(p):\n",
    "    #checking the sites that are in 1km\n",
    "    for i, site_name1 in enumerate(site):\n",
    "        for j, site_name2 in enumerate(site):\n",
    "            if (distance.loc[site_name1, site_name2] > 0 and distance.loc[site_name1, site_name2] <= 1 and site_name1 != site_name2):\n",
    "                p += sites_info[site[i]] == sites_info[site[j]]"
   ]
  },
  {
   "cell_type": "code",
   "execution_count": 265,
   "metadata": {},
   "outputs": [
    {
     "data": {
      "text/plain": [
       "'Optimal'"
      ]
     },
     "execution_count": 265,
     "metadata": {},
     "output_type": "execute_result"
    }
   ],
   "source": [
    "#initiazlizing the problem\n",
    "prefer1 = LpProblem('close_site',LpMaximize)\n",
    "\n",
    "#initial constraints\n",
    "initial_constraints(prefer1)\n",
    "\n",
    "#additional constraints\n",
    "preference1(prefer1)\n",
    "\n",
    "prefer1.writeLP(\"close_site.lp\")\n",
    "prefer1.solve()\n",
    "LpStatus[prefer1.status]"
   ]
  },
  {
   "cell_type": "code",
   "execution_count": 266,
   "metadata": {},
   "outputs": [
    {
     "name": "stdout",
     "output_type": "stream",
     "text": [
      "AC = 1\n",
      "AT = 1\n",
      "BS = 1\n",
      "CA = 0\n",
      "CN = 0\n",
      "CP = 0\n",
      "JT = 1\n",
      "ML = 0\n",
      "MO = 1\n",
      "PC = 1\n",
      "SC = 0\n",
      "TE = 0\n",
      "TM = 1\n",
      "The maximum number of sites Mr Doe can visit based on his preference 1 is  =  7\n",
      "The list of recommended sites is:  ['AC', 'AT', 'BS', 'JT', 'MO', 'PC', 'TM']\n"
     ]
    }
   ],
   "source": [
    "listPref1=[]\n",
    "\n",
    "#printing the values of each site, 0 means not recommended and 1 means recommended\n",
    "for v in prefer1.variables():\n",
    "    print(v.name,\"=\",v.varValue)\n",
    "    if(v.varValue==1.0):\n",
    "        listPref1.append(v.name) # store all the recommended sites\n",
    "\n",
    "print (\"The maximum number of sites Mr Doe can visit based on his preference 1 is  = \",value(prefer1.objective) )\n",
    "print(\"The list of recommended sites is: \", listPref1)"
   ]
  },
  {
   "cell_type": "markdown",
   "metadata": {},
   "source": [
    "#### Preference 2: He absolutely wants to visit the Eiffel Tower (TE) and Catacombes (CA). \n",
    "\n",
    "Here the constraints is that, the value of TE and CA should be 1"
   ]
  },
  {
   "cell_type": "code",
   "execution_count": 267,
   "metadata": {},
   "outputs": [],
   "source": [
    "def preference2(p):\n",
    "    p += sites_info['TE'] == 1 \n",
    "    p += sites_info['CA'] == 1 \n",
    "    "
   ]
  },
  {
   "cell_type": "code",
   "execution_count": 268,
   "metadata": {},
   "outputs": [
    {
     "data": {
      "text/plain": [
       "'Optimal'"
      ]
     },
     "execution_count": 268,
     "metadata": {},
     "output_type": "execute_result"
    }
   ],
   "source": [
    "#initiazlizing the problem\n",
    "prefer2 = LpProblem('MustVisitTEandCA',LpMaximize)\n",
    "\n",
    "#initial constraints\n",
    "initial_constraints(prefer2)\n",
    "\n",
    "#additional constraints constrainst\n",
    "preference2(prefer2)\n",
    "\n",
    "prob_site.writeLP(\"MustVisitTEandCA.lp\")\n",
    "\n",
    "prefer2.solve()\n",
    "LpStatus[prefer2.status]"
   ]
  },
  {
   "cell_type": "code",
   "execution_count": 269,
   "metadata": {},
   "outputs": [
    {
     "name": "stdout",
     "output_type": "stream",
     "text": [
      "AC = 1\n",
      "AT = 1\n",
      "BS = 0\n",
      "CA = 1\n",
      "CN = 0\n",
      "CP = 0\n",
      "JT = 0\n",
      "ML = 0\n",
      "MO = 0\n",
      "PC = 1\n",
      "SC = 1\n",
      "TE = 1\n",
      "TM = 0\n",
      "The maximum number of sites Mr Doe can visit based on his preference 2 is  =  6\n",
      "The list of recommended sites is:  ['AC', 'AT', 'CA', 'PC', 'SC', 'TE']\n"
     ]
    }
   ],
   "source": [
    "listPref2=[]\n",
    "\n",
    "#printing the values of each site, 0 means not recommended and 1 means recommended\n",
    "for v in prefer2.variables():\n",
    "    print(v.name,\"=\",v.varValue)\n",
    "    if(v.varValue==1.0):\n",
    "        listPref2.append(v.name) # store all the recommended sites\n",
    "\n",
    "print (\"The maximum number of sites Mr Doe can visit based on his preference 2 is  = \",value(prefer2.objective) )\n",
    "print(\"The list of recommended sites is: \", listPref2)"
   ]
  },
  {
   "cell_type": "markdown",
   "metadata": {},
   "source": [
    "#### Preference 3: If he visits Notre Dame Cathedral (CN) then he will not visit the Sainte Chapelle (SC).\n",
    "Here the additional constraints is that, if the value of CN is 1 then SC should be 0, meaning that they should not have the same value."
   ]
  },
  {
   "cell_type": "code",
   "execution_count": 270,
   "metadata": {},
   "outputs": [],
   "source": [
    "def preference3(p):\n",
    "    p += sites_info['CN'] != sites_info['SC']\n",
    "    "
   ]
  },
  {
   "cell_type": "code",
   "execution_count": 271,
   "metadata": {},
   "outputs": [
    {
     "data": {
      "text/plain": [
       "'Optimal'"
      ]
     },
     "execution_count": 271,
     "metadata": {},
     "output_type": "execute_result"
    }
   ],
   "source": [
    "#initiazlizing the problem\n",
    "prefer3 = LpProblem('EitherCNorSC',LpMaximize)\n",
    "\n",
    "#initial constraints\n",
    "initial_constraints(prefer3)\n",
    "\n",
    "#additional constraints constrainst\n",
    "preference3(prefer3)\n",
    "\n",
    "prefer3.writeLP(\"EitherCNorSC.lp\")\n",
    "\n",
    "prefer3.solve()\n",
    "LpStatus[prefer3.status]"
   ]
  },
  {
   "cell_type": "code",
   "execution_count": 272,
   "metadata": {},
   "outputs": [
    {
     "name": "stdout",
     "output_type": "stream",
     "text": [
      "AC = 1\n",
      "AT = 1\n",
      "BS = 1\n",
      "CA = 1\n",
      "CN = 0\n",
      "CP = 0\n",
      "JT = 1\n",
      "ML = 0\n",
      "MO = 0\n",
      "PC = 0\n",
      "SC = 1\n",
      "TE = 0\n",
      "TM = 1\n",
      "The maximum number of sites Mr Doe can visit based on his preference 3 is  =  7\n",
      "The list of recommended sites is:  ['AC', 'AT', 'BS', 'CA', 'JT', 'SC', 'TM']\n"
     ]
    }
   ],
   "source": [
    "listPref3=[]\n",
    "\n",
    "#printing the values of each site, 0 means not recommended and 1 means recommended\n",
    "for v in prefer3.variables():\n",
    "    print(v.name,\"=\",v.varValue)\n",
    "    if(v.varValue==1.0):\n",
    "        listPref3.append(v.name) # store all the recommended sites\n",
    "\n",
    "print (\"The maximum number of sites Mr Doe can visit based on his preference 3 is  = \",value(prefer3.objective) )\n",
    "print(\"The list of recommended sites is: \", listPref3)"
   ]
  },
  {
   "cell_type": "markdown",
   "metadata": {},
   "source": [
    "#### Preference 4 : He absolutely wants to visit Tour Montparnasse (TM).\n",
    "The value of TM must be 1"
   ]
  },
  {
   "cell_type": "code",
   "execution_count": 273,
   "metadata": {},
   "outputs": [],
   "source": [
    "def preference4(p):\n",
    "    p += sites_info['TM'] == 1\n",
    "    "
   ]
  },
  {
   "cell_type": "code",
   "execution_count": 274,
   "metadata": {},
   "outputs": [
    {
     "data": {
      "text/plain": [
       "'Optimal'"
      ]
     },
     "execution_count": 274,
     "metadata": {},
     "output_type": "execute_result"
    }
   ],
   "source": [
    "#initiazlizing the problem\n",
    "prefer4 = LpProblem('MustVisitTM',LpMaximize)\n",
    "\n",
    "#initial constraints\n",
    "initial_constraints(prefer4)\n",
    "\n",
    "#additional constraints constrainst\n",
    "preference4(prefer4)\n",
    "\n",
    "prefer4.writeLP(\"MustVisitTM.lp\")\n",
    "\n",
    "prefer4.solve()\n",
    "LpStatus[prefer4.status]"
   ]
  },
  {
   "cell_type": "code",
   "execution_count": 275,
   "metadata": {},
   "outputs": [
    {
     "name": "stdout",
     "output_type": "stream",
     "text": [
      "AC = 1\n",
      "AT = 1\n",
      "BS = 1\n",
      "CA = 0\n",
      "CN = 0\n",
      "CP = 0\n",
      "JT = 1\n",
      "ML = 0\n",
      "MO = 1\n",
      "PC = 0\n",
      "SC = 1\n",
      "TE = 0\n",
      "TM = 1\n",
      "The maximum number of sites Mr Doe can visit based on his preference 4 is  =  7\n",
      "The list of recommended sites is:  ['AC', 'AT', 'BS', 'JT', 'MO', 'SC', 'TM']\n"
     ]
    }
   ],
   "source": [
    "listPref4=[]\n",
    "\n",
    "#printing the values of each site, 0 means not recommended and 1 means recommended\n",
    "for v in prefer4.variables():\n",
    "    print(v.name,\"=\",v.varValue)\n",
    "    if(v.varValue==1.0):\n",
    "        listPref4.append(v.name) # store all the recommended sites\n",
    "\n",
    "print (\"The maximum number of sites Mr Doe can visit based on his preference 4 is  = \",value(prefer4.objective) )\n",
    "print(\"The list of recommended sites is: \", listPref4)"
   ]
  },
  {
   "cell_type": "markdown",
   "metadata": {},
   "source": [
    "#### Preference 5 : If he visits the Louvre (ML) Museum then he must visit the Pompidou Center (CP).\n",
    "If the value of ML is 1 then CP should be 1 too, otherwise he will not visit any of them!"
   ]
  },
  {
   "cell_type": "code",
   "execution_count": 276,
   "metadata": {},
   "outputs": [],
   "source": [
    "def preference5(p):\n",
    "    p += sites_info['ML'] == sites_info['CP']\n",
    "    "
   ]
  },
  {
   "cell_type": "code",
   "execution_count": 277,
   "metadata": {},
   "outputs": [
    {
     "data": {
      "text/plain": [
       "'Optimal'"
      ]
     },
     "execution_count": 277,
     "metadata": {},
     "output_type": "execute_result"
    }
   ],
   "source": [
    "#initiazlizing the problem\n",
    "prefer5 = LpProblem('MlandCP',LpMaximize)\n",
    "\n",
    "#initial constraints\n",
    "initial_constraints(prefer5)\n",
    "\n",
    "#additional constraints constrainst\n",
    "preference5(prefer5)\n",
    "\n",
    "prefer5.writeLP(\"MlandCP.lp\")\n",
    "\n",
    "prefer5.solve()\n",
    "LpStatus[prefer5.status]"
   ]
  },
  {
   "cell_type": "code",
   "execution_count": 278,
   "metadata": {},
   "outputs": [
    {
     "name": "stdout",
     "output_type": "stream",
     "text": [
      "AC = 1\n",
      "AT = 1\n",
      "BS = 1\n",
      "CA = 0\n",
      "CN = 1\n",
      "CP = 0\n",
      "JT = 1\n",
      "ML = 0\n",
      "MO = 0\n",
      "PC = 0\n",
      "SC = 1\n",
      "TE = 0\n",
      "TM = 1\n",
      "The maximum number of sites Mr Doe can visit based on his preference 5 is  =  7\n",
      "The list of recommended sites is:  ['AC', 'AT', 'BS', 'CN', 'JT', 'SC', 'TM']\n"
     ]
    }
   ],
   "source": [
    "listPref5=[]\n",
    "\n",
    "#printing the values of each site, 0 means not recommended and 1 means recommended\n",
    "for v in prefer5.variables():\n",
    "    print(v.name,\"=\",v.varValue)\n",
    "    if(v.varValue==1.0):\n",
    "        listPref5.append(v.name) # store all the recommended sites\n",
    "\n",
    "print (\"The maximum number of sites Mr Doe can visit based on his preference 5 is  = \",value(prefer5.objective) )\n",
    "print(\"The list of recommended sites is: \", listPref5)"
   ]
  },
  {
   "cell_type": "markdown",
   "metadata": {},
   "source": [
    "#### 2.2 (a) For each of the five preferences above, suggest to Mr. Doe, one or more lists of tourist sites to visit. \n",
    "Are the obtained lists different from the solution ListVisit 1 ? To answer this last question, you can implement a python function returning True (respectively False) if two lists are identical (respectively different)."
   ]
  },
  {
   "cell_type": "code",
   "execution_count": 279,
   "metadata": {},
   "outputs": [],
   "source": [
    "#to check if two lists are identical\n",
    "def is_identical(list1, list2):\n",
    "    return (sorted(list1) == sorted(list2)) # will return true or false"
   ]
  },
  {
   "cell_type": "code",
   "execution_count": 280,
   "metadata": {},
   "outputs": [
    {
     "name": "stdout",
     "output_type": "stream",
     "text": [
      "listVisit1 and the solutions of Preference 3 are identical\n",
      "Listvisit1:  ['AC', 'AT', 'BS', 'CA', 'JT', 'SC', 'TM']\n",
      "Mr Doe can visit sites of the list obtained in Preference 3 ['AC', 'AT', 'BS', 'CA', 'JT', 'SC', 'TM']\n"
     ]
    }
   ],
   "source": [
    "#def list_comparisons:\n",
    "FivePreferences=[listPref1, listPref2,listPref3,listPref4,listPref5]\n",
    "for i in range(len(FivePreferences)):\n",
    "    if(is_identical(listVisit1, FivePreferences[i])):\n",
    "        print(\"listVisit1 and the solutions of Preference \" + str(i + 1) + \" are identical\")\n",
    "        print(\"Listvisit1: \",listVisit1)\n",
    "        print(\"Mr Doe can visit sites of the list obtained in Preference \" + str(i+1) ,FivePreferences[i])       \n"
   ]
  },
  {
   "cell_type": "markdown",
   "metadata": {},
   "source": [
    "#### 2.2(b) If Mr. Doe wishes, at the same time, to take into account Preference 1 and Preference 2, which list(s) would you recommend to him ?"
   ]
  },
  {
   "cell_type": "code",
   "execution_count": 281,
   "metadata": {},
   "outputs": [
    {
     "data": {
      "text/plain": [
       "'Optimal'"
      ]
     },
     "execution_count": 281,
     "metadata": {},
     "output_type": "execute_result"
    }
   ],
   "source": [
    "#initiazlizing the problem\n",
    "p12 = LpProblem('pref1and2',LpMaximize)\n",
    "\n",
    "#initial constraints\n",
    "initial_constraints(p12)\n",
    "\n",
    "#additional constraints constrainst\n",
    "preference1(p12) #constraints of preference 1\n",
    "preference2(p12) #constraints of preference 2\n",
    "\n",
    "p12.writeLP(\"pref1and2.lp\")\n",
    "\n",
    "p12.solve()\n",
    "LpStatus[p12.status]"
   ]
  },
  {
   "cell_type": "code",
   "execution_count": 282,
   "metadata": {},
   "outputs": [
    {
     "name": "stdout",
     "output_type": "stream",
     "text": [
      "AC = 0\n",
      "AT = 0\n",
      "BS = 0\n",
      "CA = 1\n",
      "CN = 0\n",
      "CP = 0\n",
      "JT = 1\n",
      "ML = 0\n",
      "MO = 1\n",
      "PC = 1\n",
      "SC = 0\n",
      "TE = 1\n",
      "TM = 0\n",
      "The maximum number of sites Mr Doe can visit based on his preference 1 and 2 =  5\n",
      "The list of recommended sites is:  ['CA', 'JT', 'MO', 'PC', 'TE']\n"
     ]
    }
   ],
   "source": [
    "listPref12=[]\n",
    "\n",
    "#printing the values of each site, 0 means not recommended and 1 means recommended\n",
    "for v in p12.variables():\n",
    "    print(v.name,\"=\",v.varValue)\n",
    "    if(v.varValue==1.0):\n",
    "        listPref12.append(v.name) # store all the recommended sites\n",
    "\n",
    "print (\"The maximum number of sites Mr Doe can visit based on his preference 1 and 2 = \",value(p12.objective) )\n",
    "print(\"The list of recommended sites is: \", listPref12)"
   ]
  },
  {
   "cell_type": "markdown",
   "metadata": {},
   "source": [
    "#### 2.2(c) If Mr. Doe wishes, at the same time, to take into account Preference 1 and Preference 3, which list(s) would you recommend to him ?"
   ]
  },
  {
   "cell_type": "code",
   "execution_count": 283,
   "metadata": {},
   "outputs": [
    {
     "data": {
      "text/plain": [
       "'Optimal'"
      ]
     },
     "execution_count": 283,
     "metadata": {},
     "output_type": "execute_result"
    }
   ],
   "source": [
    "#initiazlizing the problem\n",
    "p13 = LpProblem('pref1and3',LpMaximize)\n",
    "\n",
    "#initial constraints\n",
    "initial_constraints(p13)\n",
    "\n",
    "#additional constraints constrainst\n",
    "preference1(p13) #constraints of preference 1\n",
    "preference3(p13) #constraints of preference 3\n",
    "\n",
    "p13.writeLP(\"pref1and3.lp\")\n",
    "\n",
    "p13.solve()\n",
    "LpStatus[p13.status]"
   ]
  },
  {
   "cell_type": "code",
   "execution_count": 284,
   "metadata": {},
   "outputs": [
    {
     "name": "stdout",
     "output_type": "stream",
     "text": [
      "AC = 1\n",
      "AT = 1\n",
      "BS = 1\n",
      "CA = 0\n",
      "CN = 0\n",
      "CP = 0\n",
      "JT = 1\n",
      "ML = 0\n",
      "MO = 1\n",
      "PC = 1\n",
      "SC = 0\n",
      "TE = 0\n",
      "TM = 1\n",
      "The maximum number of sites Mr Doe can visit based on his preference 1 and 3 =  7\n",
      "The list of recommended sites is:  ['AC', 'AT', 'BS', 'JT', 'MO', 'PC', 'TM']\n"
     ]
    }
   ],
   "source": [
    "listPref13=[]\n",
    "\n",
    "#printing the values of each site, 0 means not recommended and 1 means recommended\n",
    "for v in p13.variables():\n",
    "    print(v.name,\"=\",v.varValue)\n",
    "    if(v.varValue==1.0):\n",
    "        listPref13.append(v.name) # store all the recommended sites\n",
    "\n",
    "print (\"The maximum number of sites Mr Doe can visit based on his preference 1 and 3 = \",value(p13.objective) )\n",
    "print(\"The list of recommended sites is: \", listPref13)"
   ]
  },
  {
   "cell_type": "markdown",
   "metadata": {},
   "source": [
    "#### 2.2(d) If Mr. Doe wishes, at the same time, to take into account Preference 1 and Preference 4, which list(s) would you recommend to him ? "
   ]
  },
  {
   "cell_type": "code",
   "execution_count": 285,
   "metadata": {},
   "outputs": [
    {
     "data": {
      "text/plain": [
       "'Optimal'"
      ]
     },
     "execution_count": 285,
     "metadata": {},
     "output_type": "execute_result"
    }
   ],
   "source": [
    "#initiazlizing the problem\n",
    "p14 = LpProblem('pref1and4',LpMaximize)\n",
    "\n",
    "#initial constraints\n",
    "initial_constraints(p14)\n",
    "\n",
    "#additional constraints constrainst\n",
    "preference1(p14) #constraints of preference 1\n",
    "preference4(p14) #constraints of preference 4\n",
    "\n",
    "p14.writeLP(\"pref1and4.lp\")\n",
    "\n",
    "p14.solve()\n",
    "LpStatus[p14.status]"
   ]
  },
  {
   "cell_type": "code",
   "execution_count": 286,
   "metadata": {},
   "outputs": [
    {
     "name": "stdout",
     "output_type": "stream",
     "text": [
      "AC = 1\n",
      "AT = 1\n",
      "BS = 0\n",
      "CA = 1\n",
      "CN = 0\n",
      "CP = 0\n",
      "JT = 1\n",
      "ML = 0\n",
      "MO = 1\n",
      "PC = 1\n",
      "SC = 0\n",
      "TE = 0\n",
      "TM = 1\n",
      "The maximum number of sites Mr Doe can visit based on his preference 1 and 4 =  7\n",
      "The list of recommended sites is:  ['AC', 'AT', 'CA', 'JT', 'MO', 'PC', 'TM']\n"
     ]
    }
   ],
   "source": [
    "listPref14=[]\n",
    "\n",
    "#printing the values of each site, 0 means not recommended and 1 means recommended\n",
    "for v in p14.variables():\n",
    "    print(v.name,\"=\",v.varValue)\n",
    "    if(v.varValue==1.0):\n",
    "        listPref14.append(v.name) # store all the recommended sites\n",
    "\n",
    "print (\"The maximum number of sites Mr Doe can visit based on his preference 1 and 4 = \",value(p14.objective) )\n",
    "print(\"The list of recommended sites is: \", listPref14)"
   ]
  },
  {
   "cell_type": "markdown",
   "metadata": {},
   "source": [
    "#### 2.2(e) If Mr. Doe wishes, at the same time, to take into account Preference 2 and Preference 5, which list(s) would you recommend to him ?"
   ]
  },
  {
   "cell_type": "code",
   "execution_count": 287,
   "metadata": {},
   "outputs": [
    {
     "data": {
      "text/plain": [
       "'Optimal'"
      ]
     },
     "execution_count": 287,
     "metadata": {},
     "output_type": "execute_result"
    }
   ],
   "source": [
    "#initiazlizing the problem\n",
    "p25 = LpProblem('pref2and5',LpMaximize)\n",
    "\n",
    "#initial constraints\n",
    "initial_constraints(p25)\n",
    "\n",
    "#additional constraints constrainst\n",
    "preference2(p25) #constraints of preference 2\n",
    "preference5(p25) #constraints of preference 5\n",
    "\n",
    "p25.writeLP(\"pref2and5.lp\")\n",
    "\n",
    "p25.solve()\n",
    "LpStatus[p25.status]"
   ]
  },
  {
   "cell_type": "code",
   "execution_count": 288,
   "metadata": {},
   "outputs": [
    {
     "name": "stdout",
     "output_type": "stream",
     "text": [
      "AC = 1\n",
      "AT = 1\n",
      "BS = 0\n",
      "CA = 1\n",
      "CN = 0\n",
      "CP = 0\n",
      "JT = 0\n",
      "ML = 0\n",
      "MO = 0\n",
      "PC = 1\n",
      "SC = 1\n",
      "TE = 1\n",
      "TM = 0\n",
      "The maximum number of sites Mr Doe can visit based on his preference 2 and 5=  6\n",
      "The list of recommended sites is:  ['AC', 'AT', 'CA', 'PC', 'SC', 'TE']\n"
     ]
    }
   ],
   "source": [
    "listPref25=[]\n",
    "\n",
    "#printing the values of each site, 0 means not recommended and 1 means recommended\n",
    "for v in p25.variables():\n",
    "    print(v.name,\"=\",v.varValue)\n",
    "    if(v.varValue==1.0):\n",
    "        listPref25.append(v.name) # store all the recommended sites\n",
    "\n",
    "print (\"The maximum number of sites Mr Doe can visit based on his preference 2 and 5= \",value(p25.objective) )\n",
    "print(\"The list of recommended sites is: \", listPref25)"
   ]
  },
  {
   "cell_type": "markdown",
   "metadata": {},
   "source": [
    "#### 2.2(f) If Mr. Doe wishes, at the same time, to take into account Preference 3 and Preference 4, which list(s) would you recommend to him ?"
   ]
  },
  {
   "cell_type": "code",
   "execution_count": 289,
   "metadata": {},
   "outputs": [
    {
     "data": {
      "text/plain": [
       "'Optimal'"
      ]
     },
     "execution_count": 289,
     "metadata": {},
     "output_type": "execute_result"
    }
   ],
   "source": [
    "#initiazlizing the problem\n",
    "p34 = LpProblem('pref3and4',LpMaximize)\n",
    "\n",
    "#initial constraints\n",
    "initial_constraints(p34)\n",
    "\n",
    "#additional constraints constrainst\n",
    "preference3(p34) #constraints of preference 3\n",
    "preference4(p34) #constraints of preference 4\n",
    "\n",
    "p34.writeLP(\"pref3and4.lp\")\n",
    "\n",
    "p34.solve()\n",
    "LpStatus[p34.status]"
   ]
  },
  {
   "cell_type": "code",
   "execution_count": 290,
   "metadata": {},
   "outputs": [
    {
     "name": "stdout",
     "output_type": "stream",
     "text": [
      "AC = 1\n",
      "AT = 1\n",
      "BS = 1\n",
      "CA = 0\n",
      "CN = 0\n",
      "CP = 0\n",
      "JT = 1\n",
      "ML = 0\n",
      "MO = 1\n",
      "PC = 0\n",
      "SC = 1\n",
      "TE = 0\n",
      "TM = 1\n",
      "The maximum number of sites Mr Doe can visit based on his preference 3 and 4 =  7\n",
      "The list of recommended sites is:  ['AC', 'AT', 'BS', 'JT', 'MO', 'SC', 'TM']\n"
     ]
    }
   ],
   "source": [
    "listPref34=[]\n",
    "\n",
    "#printing the values of each site, 0 means not recommended and 1 means recommended\n",
    "for v in p34.variables():\n",
    "    print(v.name,\"=\",v.varValue)\n",
    "    if(v.varValue==1.0):\n",
    "        listPref34.append(v.name) # store all the recommended sites\n",
    "\n",
    "print (\"The maximum number of sites Mr Doe can visit based on his preference 3 and 4 = \",value(p34.objective) )\n",
    "print(\"The list of recommended sites is: \", listPref34)"
   ]
  },
  {
   "cell_type": "markdown",
   "metadata": {},
   "source": [
    "#### 2.2(g) If Mr. Doe wishes, at the same time, to take into account Preference 4 and Preference 5, which list(s) would you recommend to him ?"
   ]
  },
  {
   "cell_type": "code",
   "execution_count": 291,
   "metadata": {},
   "outputs": [
    {
     "data": {
      "text/plain": [
       "'Optimal'"
      ]
     },
     "execution_count": 291,
     "metadata": {},
     "output_type": "execute_result"
    }
   ],
   "source": [
    "#initiazlizing the problem\n",
    "p45= LpProblem('pref4and5',LpMaximize)\n",
    "\n",
    "#initial constraints\n",
    "initial_constraints(p45)\n",
    "\n",
    "#additional constraints constrainst\n",
    "preference4(p45) #constraints of preference 4\n",
    "preference5(p45) #constraints of preference 5\n",
    "\n",
    "p45.writeLP(\"pref4and5.lp\")\n",
    "\n",
    "p45.solve()\n",
    "LpStatus[p45.status]"
   ]
  },
  {
   "cell_type": "code",
   "execution_count": 292,
   "metadata": {},
   "outputs": [
    {
     "name": "stdout",
     "output_type": "stream",
     "text": [
      "AC = 1\n",
      "AT = 1\n",
      "BS = 0\n",
      "CA = 1\n",
      "CN = 0\n",
      "CP = 0\n",
      "JT = 1\n",
      "ML = 0\n",
      "MO = 1\n",
      "PC = 0\n",
      "SC = 1\n",
      "TE = 0\n",
      "TM = 1\n",
      "The maximum number of sites Mr Doe can visit based on his preference 4 and 5 =  7\n",
      "The list of recommended sites is:  ['AC', 'AT', 'CA', 'JT', 'MO', 'SC', 'TM']\n"
     ]
    }
   ],
   "source": [
    "listPref45=[]\n",
    "\n",
    "#printing the values of each site, 0 means not recommended and 1 means recommended\n",
    "for v in p45.variables():\n",
    "    print(v.name,\"=\",v.varValue)\n",
    "    if(v.varValue==1.0):\n",
    "        listPref45.append(v.name) # store all the recommended sites\n",
    "\n",
    "print (\"The maximum number of sites Mr Doe can visit based on his preference 4 and 5 = \",value(p45.objective) )\n",
    "print(\"The list of recommended sites is: \", listPref45)"
   ]
  },
  {
   "cell_type": "markdown",
   "metadata": {},
   "source": [
    "#### 2.2 (h) If Mr. Doe wishes, at the same time, to take into account Preference 1, Preference 2 and Preference 4, which list(s) would you recommend to him ?"
   ]
  },
  {
   "cell_type": "code",
   "execution_count": 293,
   "metadata": {},
   "outputs": [
    {
     "data": {
      "text/plain": [
       "'Optimal'"
      ]
     },
     "execution_count": 293,
     "metadata": {},
     "output_type": "execute_result"
    }
   ],
   "source": [
    "#initiazlizing the problem\n",
    "p124= LpProblem('pref124',LpMaximize)\n",
    "\n",
    "#initial constraints\n",
    "initial_constraints(p124)\n",
    "\n",
    "#additional constraints constrainst           \n",
    "preference1(p124) #constraints of preference 1\n",
    "preference2(p124) #constraints of preference 2\n",
    "preference4(p124) #constraints of preference 3\n",
    "\n",
    "p124.writeLP(\"pref124.lp\")\n",
    "\n",
    "p124.solve()\n",
    "LpStatus[p124.status]"
   ]
  },
  {
   "cell_type": "code",
   "execution_count": 294,
   "metadata": {},
   "outputs": [
    {
     "name": "stdout",
     "output_type": "stream",
     "text": [
      "AC = 1\n",
      "AT = 1\n",
      "BS = 0\n",
      "CA = 1\n",
      "CN = 0\n",
      "CP = 0\n",
      "JT = 0\n",
      "ML = 0\n",
      "MO = 0\n",
      "PC = 0\n",
      "SC = 0\n",
      "TE = 1\n",
      "TM = 1\n",
      "The maximum number of sites Mr Doe can visit based on his preference 1,2 and 4 =  5\n",
      "The list of recommended sites is:  ['AC', 'AT', 'CA', 'TE', 'TM']\n"
     ]
    }
   ],
   "source": [
    "listPref124=[]\n",
    "\n",
    "#printing the values of each site, 0 means not recommended and 1 means recommended\n",
    "for v in p124.variables():\n",
    "    print(v.name,\"=\",v.varValue)\n",
    "    if(v.varValue==1.0):\n",
    "        listPref124.append(v.name) # store all the recommended sites\n",
    "\n",
    "print (\"The maximum number of sites Mr Doe can visit based on his preference 1,2 and 4 = \",value(p124.objective) )\n",
    "print(\"The list of recommended sites is: \", listPref124)"
   ]
  },
  {
   "cell_type": "markdown",
   "metadata": {},
   "source": [
    "#### 2.2 (i) If Mr. Doe wishes, at the same time, to take into account Preference 2, Preference 3 and Preference 5, which list(s) would you recommend to him ?"
   ]
  },
  {
   "cell_type": "code",
   "execution_count": 295,
   "metadata": {},
   "outputs": [
    {
     "data": {
      "text/plain": [
       "'Optimal'"
      ]
     },
     "execution_count": 295,
     "metadata": {},
     "output_type": "execute_result"
    }
   ],
   "source": [
    "#initiazlizing the problem\n",
    "p235= LpProblem('pref235',LpMaximize)\n",
    "\n",
    "#initial constraints\n",
    "initial_constraints(p235)\n",
    "\n",
    "#additional constraints constrainst           \n",
    "preference2(p235) #constraints of preference 2\n",
    "preference3(p235) #constraints of preference 3\n",
    "preference5(p235) #constraints of preference 5\n",
    "\n",
    "p235.writeLP(\"pref235.lp\")\n",
    "\n",
    "p235.solve()\n",
    "LpStatus[p235.status]"
   ]
  },
  {
   "cell_type": "code",
   "execution_count": 296,
   "metadata": {},
   "outputs": [
    {
     "name": "stdout",
     "output_type": "stream",
     "text": [
      "AC = 1\n",
      "AT = 1\n",
      "BS = 0\n",
      "CA = 1\n",
      "CN = 0\n",
      "CP = 0\n",
      "JT = 0\n",
      "ML = 0\n",
      "MO = 0\n",
      "PC = 1\n",
      "SC = 1\n",
      "TE = 1\n",
      "TM = 0\n",
      "The maximum number of sites Mr Doe can visit based on his preference 2,3 and 5 =  6\n",
      "The list of recommended sites is:  ['AC', 'AT', 'CA', 'PC', 'SC', 'TE']\n"
     ]
    }
   ],
   "source": [
    "listPref235=[]\n",
    "\n",
    "#printing the values of each site, 0 means not recommended and 1 means recommended\n",
    "for v in p235.variables():\n",
    "    print(v.name,\"=\",v.varValue)\n",
    "    if(v.varValue==1.0):\n",
    "        listPref235.append(v.name) # store all the recommended sites\n",
    "\n",
    "print (\"The maximum number of sites Mr Doe can visit based on his preference 2,3 and 5 = \",value(p235.objective) )\n",
    "print(\"The list of recommended sites is: \", listPref235)"
   ]
  },
  {
   "cell_type": "markdown",
   "metadata": {},
   "source": [
    "#### 2.2 (j) If Mr. Doe wishes, at the same time, to take into account Preference 2, Preference 3, Preference 4 and Preference 5, which list(s) would you recommend to him ?"
   ]
  },
  {
   "cell_type": "code",
   "execution_count": 297,
   "metadata": {},
   "outputs": [
    {
     "data": {
      "text/plain": [
       "'Optimal'"
      ]
     },
     "execution_count": 297,
     "metadata": {},
     "output_type": "execute_result"
    }
   ],
   "source": [
    "#initiazlizing the problem\n",
    "p2345= LpProblem('pref2345',LpMaximize)\n",
    "\n",
    "#initial constraints\n",
    "initial_constraints(p2345)\n",
    "\n",
    "#additional constraints constrainst           \n",
    "preference2(p2345) #constraints of preference 2\n",
    "preference3(p2345) #constraints of preference 3\n",
    "preference4(p2345) #constraints of preference 4\n",
    "preference5(p2345) #constraints of preference 5\n",
    "\n",
    "p2345.writeLP(\"pref2345.lp\")\n",
    "\n",
    "p2345.solve()\n",
    "LpStatus[p2345.status]"
   ]
  },
  {
   "cell_type": "code",
   "execution_count": 298,
   "metadata": {},
   "outputs": [
    {
     "name": "stdout",
     "output_type": "stream",
     "text": [
      "AC = 1\n",
      "AT = 1\n",
      "BS = 0\n",
      "CA = 1\n",
      "CN = 0\n",
      "CP = 0\n",
      "JT = 0\n",
      "ML = 0\n",
      "MO = 0\n",
      "PC = 1\n",
      "SC = 0\n",
      "TE = 1\n",
      "TM = 1\n",
      "The maximum number of sites Mr Doe can visit based on his preference 2, 3, 4 and 5 =  6\n",
      "The list of recommended sites is:  ['AC', 'AT', 'CA', 'PC', 'TE', 'TM']\n"
     ]
    }
   ],
   "source": [
    "listPref2345=[]\n",
    "\n",
    "#printing the values of each site, 0 means not recommended and 1 means recommended\n",
    "for v in p2345.variables():\n",
    "    print(v.name,\"=\",v.varValue)\n",
    "    if(v.varValue==1.0):\n",
    "        listPref2345.append(v.name) # store all the recommended sites\n",
    "\n",
    "print (\"The maximum number of sites Mr Doe can visit based on his preference 2, 3, 4 and 5 = \",value(p2345.objective) )\n",
    "print(\"The list of recommended sites is: \", listPref2345)"
   ]
  },
  {
   "cell_type": "markdown",
   "metadata": {},
   "source": [
    "#### 2.2 (k) If Mr. Doe wishes, at the same time, to take into account Preference 1, Preference 2, Preference 4 and Preference 5, which list(s) would you recommend to him ?"
   ]
  },
  {
   "cell_type": "code",
   "execution_count": 299,
   "metadata": {},
   "outputs": [
    {
     "data": {
      "text/plain": [
       "'Optimal'"
      ]
     },
     "execution_count": 299,
     "metadata": {},
     "output_type": "execute_result"
    }
   ],
   "source": [
    "#initiazlizing the problem\n",
    "p1245= LpProblem('pref1245',LpMaximize)\n",
    "\n",
    "#initial constraints\n",
    "initial_constraints(p1245)\n",
    "\n",
    "#additional constraints constrainst           \n",
    "preference1(p1245) #constraints of preference 1\n",
    "preference2(p1245) #constraints of preference 2\n",
    "preference4(p1245) #constraints of preference 4\n",
    "preference5(p1245) #constraints of preference 5\n",
    "\n",
    "p1245.writeLP(\"pref1245.lp\")\n",
    "\n",
    "p1245.solve()\n",
    "LpStatus[p1245.status]"
   ]
  },
  {
   "cell_type": "code",
   "execution_count": 300,
   "metadata": {},
   "outputs": [
    {
     "name": "stdout",
     "output_type": "stream",
     "text": [
      "AC = 1\n",
      "AT = 1\n",
      "BS = 0\n",
      "CA = 1\n",
      "CN = 0\n",
      "CP = 0\n",
      "JT = 0\n",
      "ML = 0\n",
      "MO = 0\n",
      "PC = 0\n",
      "SC = 0\n",
      "TE = 1\n",
      "TM = 1\n",
      "The maximum number of sites Mr Doe can visit based on his preference 1,2,4 and 5 =  5\n",
      "The list of recommended sites is:  ['AC', 'AT', 'CA', 'TE', 'TM']\n"
     ]
    }
   ],
   "source": [
    "listPref1245=[]\n",
    "\n",
    "#printing the values of each site, 0 means not recommended and 1 means recommended\n",
    "for v in p1245.variables():\n",
    "    print(v.name,\"=\",v.varValue)\n",
    "    if(v.varValue==1.0):\n",
    "        listPref1245.append(v.name) # store all the recommended sites\n",
    "\n",
    "print (\"The maximum number of sites Mr Doe can visit based on his preference 1,2,4 and 5 = \",value(p1245.objective) )\n",
    "print(\"The list of recommended sites is: \", listPref1245)"
   ]
  },
  {
   "cell_type": "markdown",
   "metadata": {},
   "source": [
    "#### 2.2(l) If Mr. Doe wishes, at the same time, to take into account Preference 1, Preference 2, Preference 3, Preference 4 and Preference 5, which list(s) would you recommend to him ?"
   ]
  },
  {
   "cell_type": "code",
   "execution_count": 301,
   "metadata": {},
   "outputs": [
    {
     "data": {
      "text/plain": [
       "'Optimal'"
      ]
     },
     "execution_count": 301,
     "metadata": {},
     "output_type": "execute_result"
    }
   ],
   "source": [
    "#initiazlizing the problem\n",
    "p12345= LpProblem('pref12345',LpMaximize)\n",
    "\n",
    "#initial constraints\n",
    "initial_constraints(p12345)\n",
    "\n",
    "#additional constraints constrainst           \n",
    "preference1(p12345) #constraints of preference 1\n",
    "preference2(p12345) #constraints of preference 2\n",
    "preference3(p12345) #constraints of preference 3\n",
    "preference4(p12345) #constraints of preference 4\n",
    "preference5(p12345) #constraints of preference 5\n",
    "\n",
    "p12345.writeLP(\"p12345.lp\")\n",
    "\n",
    "p12345.solve()\n",
    "LpStatus[p12345.status]"
   ]
  },
  {
   "cell_type": "code",
   "execution_count": 302,
   "metadata": {},
   "outputs": [
    {
     "name": "stdout",
     "output_type": "stream",
     "text": [
      "AC = 1\n",
      "AT = 1\n",
      "BS = 0\n",
      "CA = 1\n",
      "CN = 0\n",
      "CP = 0\n",
      "JT = 0\n",
      "ML = 0\n",
      "MO = 0\n",
      "PC = 0\n",
      "SC = 0\n",
      "TE = 1\n",
      "TM = 1\n",
      "The maximum number of sites Mr Doe can visit based on his preference 1, 2, 3, 4 and 5 =  5\n",
      "The list of recommended sites is:  ['AC', 'AT', 'CA', 'TE', 'TM']\n"
     ]
    }
   ],
   "source": [
    "listPref12345=[]\n",
    "\n",
    "#printing the values of each site, 0 means not recommended and 1 means recommended\n",
    "for v in p12345.variables():\n",
    "    print(v.name,\"=\",v.varValue)\n",
    "    if(v.varValue==1.0):\n",
    "        listPref12345.append(v.name) # store all the recommended sites\n",
    "\n",
    "print (\"The maximum number of sites Mr Doe can visit based on his preference 1, 2, 3, 4 and 5 = \",value(p12345.objective) )\n",
    "print(\"The list of recommended sites is: \", listPref12345)"
   ]
  },
  {
   "cell_type": "markdown",
   "metadata": {},
   "source": [
    "#### 2.2(m) Is the solution ListVisit1 different to these solutions founded above (with the combination of preferences) ?"
   ]
  },
  {
   "cell_type": "code",
   "execution_count": 303,
   "metadata": {},
   "outputs": [
    {
     "name": "stdout",
     "output_type": "stream",
     "text": [
      "Listvisit1 :  ['AC', 'AT', 'BS', 'CA', 'JT', 'SC', 'TM']\n",
      "Yes, The solution of Listvisit1 is different from the list:  ['CA', 'JT', 'MO', 'PC', 'TE']\n",
      "================================================================================================\n",
      "Listvisit1 :  ['AC', 'AT', 'BS', 'CA', 'JT', 'SC', 'TM']\n",
      "Yes, The solution of Listvisit1 is different from the list:  ['AC', 'AT', 'BS', 'JT', 'MO', 'PC', 'TM']\n",
      "================================================================================================\n",
      "Listvisit1 :  ['AC', 'AT', 'BS', 'CA', 'JT', 'SC', 'TM']\n",
      "Yes, The solution of Listvisit1 is different from the list:  ['AC', 'AT', 'CA', 'JT', 'MO', 'PC', 'TM']\n",
      "================================================================================================\n",
      "Listvisit1 :  ['AC', 'AT', 'BS', 'CA', 'JT', 'SC', 'TM']\n",
      "Yes, The solution of Listvisit1 is different from the list:  ['AC', 'AT', 'CA', 'PC', 'SC', 'TE']\n",
      "================================================================================================\n",
      "Listvisit1 :  ['AC', 'AT', 'BS', 'CA', 'JT', 'SC', 'TM']\n",
      "Yes, The solution of Listvisit1 is different from the list:  ['AC', 'AT', 'BS', 'JT', 'MO', 'SC', 'TM']\n",
      "================================================================================================\n",
      "Listvisit1 :  ['AC', 'AT', 'BS', 'CA', 'JT', 'SC', 'TM']\n",
      "Yes, The solution of Listvisit1 is different from the list:  ['AC', 'AT', 'CA', 'JT', 'MO', 'SC', 'TM']\n",
      "================================================================================================\n",
      "Listvisit1 :  ['AC', 'AT', 'BS', 'CA', 'JT', 'SC', 'TM']\n",
      "Yes, The solution of Listvisit1 is different from the list:  ['AC', 'AT', 'CA', 'TE', 'TM']\n",
      "================================================================================================\n",
      "Listvisit1 :  ['AC', 'AT', 'BS', 'CA', 'JT', 'SC', 'TM']\n",
      "Yes, The solution of Listvisit1 is different from the list:  ['AC', 'AT', 'CA', 'PC', 'SC', 'TE']\n",
      "================================================================================================\n",
      "Listvisit1 :  ['AC', 'AT', 'BS', 'CA', 'JT', 'SC', 'TM']\n",
      "Yes, The solution of Listvisit1 is different from the list:  ['AC', 'AT', 'CA', 'PC', 'TE', 'TM']\n",
      "================================================================================================\n",
      "Listvisit1 :  ['AC', 'AT', 'BS', 'CA', 'JT', 'SC', 'TM']\n",
      "Yes, The solution of Listvisit1 is different from the list:  ['AC', 'AT', 'CA', 'TE', 'TM']\n",
      "================================================================================================\n",
      "Listvisit1 :  ['AC', 'AT', 'BS', 'CA', 'JT', 'SC', 'TM']\n",
      "Yes, The solution of Listvisit1 is different from the list:  ['AC', 'AT', 'CA', 'TE', 'TM']\n",
      "================================================================================================\n"
     ]
    }
   ],
   "source": [
    "listCombinations=[listPref12,listPref13,listPref14,listPref25,listPref34,listPref45,\n",
    "                  listPref124,listPref235,listPref2345,listPref1245,listPref12345]\n",
    "\n",
    "for i in range(len(listCombinations)):\n",
    "    if(is_identical(listVisit1, listCombinations[i])):\n",
    "        print(\"No, The solution of the list is the same solution of listvisit1: \")\n",
    "        print(listVisit1)\n",
    "        print(listCombinations[i])\n",
    "    else:\n",
    "        print(\"Listvisit1 : \",listVisit1)\n",
    "        print(\"Yes, The solution of Listvisit1 is different from the list: \",listCombinations[i])\n",
    "        print(\"================================================================================================\")"
   ]
  },
  {
   "cell_type": "markdown",
   "metadata": {},
   "source": [
    "### 3: Ranking of Touristic Sites\n",
    "• Dur the ranking of the touristic sites obtained by observing only the Duration criterion (see the column “Duration” of the Table above)\n",
    "\n",
    "• App the ranking of the touristic sites obtained by observing only the Appreciations criterion (see the column “Appreciations”\n",
    "of the Table above)\n",
    "\n",
    "• Pri the ranking of the touristic sites obtained by observing only the Price criterion (see the column “Price” of the Table\n",
    "above)\n",
    "\n",
    "Are these rankings two rankings different ? To answer this question, you can use the Kendall 1 or Spearman 2 rank correlation\n",
    "coefficient."
   ]
  },
  {
   "cell_type": "code",
   "execution_count": 304,
   "metadata": {},
   "outputs": [],
   "source": [
    "dur=[9/2,3,1,2,3/2,2,5/2,2,2,3/2,3/4,2,3/2]\n",
    "app=[5,4,3,2,3,4,1,5,4,1,3,2,5]\n",
    "pri=[15.5,12,9.5,11,0,10,10,5,8,8.5,0,15,0]\n",
    "\n",
    "#defining a function to calculate correlations\n",
    "def spearman_correlation_coefficient(x,y):\n",
    "    #calculate Spearman Rank correlation and corresponding p-value\n",
    "    rho, pval = stats.spearmanr(x, y)\n",
    "    print(\"Spearman rank correlation\") \n",
    "    print(rho)\n",
    "    print(\"Spearman rank p-value\")\n",
    "    print(pval)\n",
    "    \n",
    "    if (rho>0.5): \n",
    "        print(\"Monotonically increasing relationship: Highly correlated\")\n",
    "        \n",
    "    if(rho<=0.5 and rho >0):\n",
    "        print(\"Weak monotonically increasing relationship : Weakly correlated\")\n",
    "        \n",
    "    if (rho <=0):\n",
    "        if (rho==0):\n",
    "            print(\"Non-monotonic relation\")\n",
    "        else:\n",
    "            print(\"monotonically decreasing relationship: Negativly correlated\")\n",
    "\n"
   ]
  },
  {
   "cell_type": "code",
   "execution_count": 305,
   "metadata": {},
   "outputs": [
    {
     "name": "stdout",
     "output_type": "stream",
     "text": [
      "Correlation between duration and appreciation: \n",
      "Spearman rank correlation\n",
      "0.2058187176566192\n",
      "Spearman rank p-value\n",
      "0.4999321648617373\n",
      "Weak monotonically increasing relationship : Weakly correlated\n"
     ]
    }
   ],
   "source": [
    "print(\"Correlation between duration and appreciation: \")\n",
    "spearman_correlation_coefficient(dur,app)"
   ]
  },
  {
   "cell_type": "code",
   "execution_count": 306,
   "metadata": {},
   "outputs": [
    {
     "name": "stdout",
     "output_type": "stream",
     "text": [
      "Correlation between duration and price: \n",
      "Spearman rank correlation\n",
      "0.7413325704498833\n",
      "Spearman rank p-value\n",
      "0.0037316379930495526\n",
      "Monotonically increasing relationship: Highly correlated\n"
     ]
    }
   ],
   "source": [
    "print(\"Correlation between duration and price: \")\n",
    "spearman_correlation_coefficient(dur,pri)"
   ]
  },
  {
   "cell_type": "code",
   "execution_count": 307,
   "metadata": {},
   "outputs": [
    {
     "name": "stdout",
     "output_type": "stream",
     "text": [
      "Correlation between price and appreciation: \n",
      "Spearman rank correlation\n",
      "-0.13400233411084597\n",
      "Spearman rank p-value\n",
      "0.662512282187264\n",
      "monotonically decreasing relationship: Negativly correlated\n"
     ]
    }
   ],
   "source": [
    "print(\"Correlation between price and appreciation: \")\n",
    "spearman_correlation_coefficient(pri,app)"
   ]
  }
 ],
 "metadata": {
  "colab": {
   "provenance": []
  },
  "kernelspec": {
   "display_name": "Python 3",
   "language": "python",
   "name": "python3"
  },
  "language_info": {
   "codemirror_mode": {
    "name": "ipython",
    "version": 3
   },
   "file_extension": ".py",
   "mimetype": "text/x-python",
   "name": "python",
   "nbconvert_exporter": "python",
   "pygments_lexer": "ipython3",
   "version": "3.8.8"
  }
 },
 "nbformat": 4,
 "nbformat_minor": 1
}
